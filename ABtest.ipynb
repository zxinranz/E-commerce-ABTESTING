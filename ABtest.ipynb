{
 "cells": [
  {
   "cell_type": "markdown",
   "metadata": {
    "id": "qv38cVkfYaTm"
   },
   "source": [
    "# Analyze E-commerce A/B Test Results\n",
    "\n",
    "\n",
    "## Table of Contents\n",
    "- [Introduction](#intro)\n",
    "- [Part I - Probability](#probability)\n",
    "- [Part II - A/B Test](#ab_test)\n",
    "- [Part III - Regression](#regression)\n",
    "\n",
    "\n",
    "<a id='intro'></a>\n",
    "### Introduction\n",
    " \n",
"We get data about users who enroll/visit a course page. Our goal is to come up with recommendations for the product and the marketing teams to implement the changes or not. We have a new UI change and we want to investigate whether to launch the change given the data below. Below is an overview of the dataset."    "\n",
    "\n",
    "<a id='probability'></a>\n",
    "#### Part I - Probability\n",
    "\n",
    "To get started, let's import our libraries."
   ]
  },
  {
   "cell_type": "code",
   "execution_count": 1,
   "metadata": {
    "id": "KC7KFFpxYaTq"
   },
   "outputs": [],
   "source": [
    "import pandas as pd\n",
    "import numpy as np\n",
    "import random\n",
    "import matplotlib.pyplot as plt\n",
    "import scipy\n",
    "from scipy import stats\n",
    "\n",
    "%matplotlib inline\n",
    "random.seed(42)\n",
    "#helps control randomness, increases experiment reproducibility and comparability, and allows result replication"
   ]
  },
  {
   "cell_type": "markdown",
   "metadata": {
    "id": "wMOlK1MSYaTr"
   },
   "source": [
    "`1.` Now, read in the `ab_data.csv` data. Store it in `df`.  \n",
    "a. Read in the dataset and take a look at the top few rows here:"
   ]
  },
  {
   "cell_type": "code",
   "execution_count": 2,
   "metadata": {
    "id": "MuKwL_PEYaTs",
    "outputId": "5e7348b2-3959-4c75-d80e-2c1420fedcf2"
   },
   "outputs": [
    {
     "data": {
      "text/html": [
       "<div>\n",
       "<style scoped>\n",
       "    .dataframe tbody tr th:only-of-type {\n",
       "        vertical-align: middle;\n",
       "    }\n",
       "\n",
       "    .dataframe tbody tr th {\n",
       "        vertical-align: top;\n",
       "    }\n",
       "\n",
       "    .dataframe thead th {\n",
       "        text-align: right;\n",
       "    }\n",
       "</style>\n",
       "<table border=\"1\" class=\"dataframe\">\n",
       "  <thead>\n",
       "    <tr style=\"text-align: right;\">\n",
       "      <th></th>\n",
       "      <th>user_id</th>\n",
       "      <th>timestamp</th>\n",
       "      <th>group</th>\n",
       "      <th>landing_page</th>\n",
       "      <th>converted</th>\n",
       "    </tr>\n",
       "  </thead>\n",
       "  <tbody>\n",
       "    <tr>\n",
       "      <th>0</th>\n",
       "      <td>851104</td>\n",
       "      <td>2017-01-21 22:11:48.556739</td>\n",
       "      <td>control</td>\n",
       "      <td>old_page</td>\n",
       "      <td>0</td>\n",
       "    </tr>\n",
       "    <tr>\n",
       "      <th>1</th>\n",
       "      <td>804228</td>\n",
       "      <td>2017-01-12 08:01:45.159739</td>\n",
       "      <td>control</td>\n",
       "      <td>old_page</td>\n",
       "      <td>0</td>\n",
       "    </tr>\n",
       "    <tr>\n",
       "      <th>2</th>\n",
       "      <td>661590</td>\n",
       "      <td>2017-01-11 16:55:06.154213</td>\n",
       "      <td>treatment</td>\n",
       "      <td>new_page</td>\n",
       "      <td>0</td>\n",
       "    </tr>\n",
       "    <tr>\n",
       "      <th>3</th>\n",
       "      <td>853541</td>\n",
       "      <td>2017-01-08 18:28:03.143765</td>\n",
       "      <td>treatment</td>\n",
       "      <td>new_page</td>\n",
       "      <td>0</td>\n",
       "    </tr>\n",
       "    <tr>\n",
       "      <th>4</th>\n",
       "      <td>864975</td>\n",
       "      <td>2017-01-21 01:52:26.210827</td>\n",
       "      <td>control</td>\n",
       "      <td>old_page</td>\n",
       "      <td>1</td>\n",
       "    </tr>\n",
       "  </tbody>\n",
       "</table>\n",
       "</div>"
      ],
      "text/plain": [
       "   user_id                   timestamp      group landing_page  converted\n",
       "0   851104  2017-01-21 22:11:48.556739    control     old_page          0\n",
       "1   804228  2017-01-12 08:01:45.159739    control     old_page          0\n",
       "2   661590  2017-01-11 16:55:06.154213  treatment     new_page          0\n",
       "3   853541  2017-01-08 18:28:03.143765  treatment     new_page          0\n",
       "4   864975  2017-01-21 01:52:26.210827    control     old_page          1"
      ]
     },
     "execution_count": 2,
     "metadata": {},
     "output_type": "execute_result"
    }
   ],
   "source": [
    "#import the dataset\n",
    "df = pd.read_csv('ab_data.csv')\n",
    "\n",
    "#show the first 5 rows\n",
    "df.head()"
   ]
  },
  {
   "cell_type": "markdown",
   "metadata": {
    "id": "g3Eal8UyYaTt"
   },
   "source": [
    "b. Use the below cell to find the number of rows in the dataset."
   ]
  },
  {
   "cell_type": "code",
   "execution_count": 3,
   "metadata": {
    "id": "07iZe8ENYaTt",
    "outputId": "f09933ea-d86a-4e92-8022-1adc635e589f"
   },
   "outputs": [
    {
     "data": {
      "text/plain": [
       "294478"
      ]
     },
     "execution_count": 3,
     "metadata": {},
     "output_type": "execute_result"
    }
   ],
   "source": [
    "#show the total number of rows\n",
    "df.shape[0]"
   ]
  },
  {
   "cell_type": "markdown",
   "metadata": {
    "id": "bs16mR_JYaTu"
   },
   "source": [
    "c. The number of unique users in the dataset."
   ]
  },
  {
   "cell_type": "code",
   "execution_count": 4,
   "metadata": {
    "id": "GHBjJ3-7YaTv",
    "outputId": "d58eb009-0509-4e0f-d8e4-2c2b74452e60"
   },
   "outputs": [
    {
     "data": {
      "text/plain": [
       "290584"
      ]
     },
     "execution_count": 4,
     "metadata": {},
     "output_type": "execute_result"
    }
   ],
   "source": [
    "#calculare the number of unique user_id \n",
    "len(df['user_id'].unique())"
   ]
  },
  {
   "cell_type": "markdown",
   "metadata": {
    "collapsed": true,
    "id": "kaudGg2AYaTv"
   },
   "source": [
    "d. The proportion of users converted."
   ]
  },
  {
   "cell_type": "code",
   "execution_count": 5,
   "metadata": {
    "id": "AtVkliNyYaTw",
    "outputId": "e33cc892-923d-4253-df25-0dce3eb07218"
   },
   "outputs": [
    {
     "data": {
      "text/plain": [
       "0.11965919355605512"
      ]
     },
     "execution_count": 5,
     "metadata": {},
     "output_type": "execute_result"
    }
   ],
   "source": [
    "#calculate the converted users\n",
    "df['converted'].mean()"
   ]
  },
  {
   "cell_type": "markdown",
   "metadata": {
    "collapsed": true,
    "id": "43QVluJbYaTw"
   },
   "source": [
    "e. The number of times the `new_page` and `treatment` don't line up."
   ]
  },
  {
   "cell_type": "code",
   "execution_count": 6,
   "metadata": {
    "id": "t73KGesnYaTx"
   },
   "outputs": [
    {
     "data": {
      "text/plain": [
       "3893"
      ]
     },
     "execution_count": 6,
     "metadata": {},
     "output_type": "execute_result"
    }
   ],
   "source": [
    "#treatment in group will be called A and new_page in landing_page will be called B\n",
    "\n",
    "df_A_not_B= df.query('group == \"treatment\" & landing_page != \"new_page\"')\n",
    "df_B_not_A= df.query('group != \"treatment\" & landing_page == \"new_page\"')\n",
    "\n",
    "#don't line up means: The data for the \"treatment\" group, excluding the \"new page\",\n",
    "#and the \"control\" group, excluding the \"old page\", where they don't line up, does not make sense and is illogical.\n",
    "\n",
    "#calculate the number of time new_page and treatment don't line up\n",
    "\n",
    "len(df_A_not_B)+len(df_B_not_A)"
   ]
  },
  {
   "cell_type": "markdown",
   "metadata": {
    "id": "S8ipfofhYaTx"
   },
   "source": [
    "f. Do any of the rows have missing values?"
   ]
  },
  {
   "cell_type": "code",
   "execution_count": 7,
   "metadata": {
    "id": "KjwMdgfJYaTy",
    "outputId": "b2f87120-5453-4e3a-d9df-af836c4f7765"
   },
   "outputs": [
    {
     "name": "stdout",
     "output_type": "stream",
     "text": [
      "<class 'pandas.core.frame.DataFrame'>\n",
      "RangeIndex: 294478 entries, 0 to 294477\n",
      "Data columns (total 5 columns):\n",
      " #   Column        Non-Null Count   Dtype \n",
      "---  ------        --------------   ----- \n",
      " 0   user_id       294478 non-null  int64 \n",
      " 1   timestamp     294478 non-null  object\n",
      " 2   group         294478 non-null  object\n",
      " 3   landing_page  294478 non-null  object\n",
      " 4   converted     294478 non-null  int64 \n",
      "dtypes: int64(2), object(3)\n",
      "memory usage: 11.2+ MB\n"
     ]
    }
   ],
   "source": [
    "#view if there is any missing value\n",
    "df.info()"
   ]
  },
  {
   "cell_type": "markdown",
   "metadata": {
    "id": "SMIxo0k3YaTy"
   },
   "source": [
    "`2.` For the rows where **treatment** is not aligned with **new_page** or **control** is not aligned with **old_page**, we cannot be sure if this row truly received the new or old page. \n"
   ]
  },
  {
   "cell_type": "code",
   "execution_count": 8,
   "metadata": {
    "id": "dVOPFrSCYaTz",
    "outputId": "d810a147-a539-4298-9315-470d588cae3d"
   },
   "outputs": [
    {
     "name": "stderr",
     "output_type": "stream",
     "text": [
      "/var/folders/1r/j7hbz3757qbc87pbw8ghcq6h0000gp/T/ipykernel_18349/4200711063.py:4: UserWarning: Boolean Series key will be reindexed to match DataFrame index.\n",
      "  df2 = df1.drop(df1[(df.group == \"control\") & (df.landing_page != \"old_page\")].index)\n"
     ]
    }
   ],
   "source": [
    "#remove the mismatch rows\n",
    "df1 = df.drop(df[(df.group == \"treatment\") & (df.landing_page != \"new_page\")].index) \n",
    "df2 = df1.drop(df1[(df.group == \"control\") & (df.landing_page != \"old_page\")].index) "
   ]
  },
  {
   "cell_type": "code",
   "execution_count": 9,
   "metadata": {
    "id": "jBp6EKudYaTz",
    "outputId": "dcd3b28d-d441-4bef-c870-81db7ec4d189"
   },
   "outputs": [
    {
     "data": {
      "text/plain": [
       "0"
      ]
     },
     "execution_count": 9,
     "metadata": {},
     "output_type": "execute_result"
    }
   ],
   "source": [
    "# Double Check all of the correct rows were removed - this should be 0\n",
    "df2[((df2['group'] == 'treatment') == (df2[\"landing_page\"] == 'new_page')) == False].shape[0]"
   ]
  },
  {
   "cell_type": "code",
   "execution_count": 10,
   "metadata": {},
   "outputs": [
    {
     "name": "stdout",
     "output_type": "stream",
     "text": [
      "<class 'pandas.core.frame.DataFrame'>\n",
      "Int64Index: 290585 entries, 0 to 294477\n",
      "Data columns (total 5 columns):\n",
      " #   Column        Non-Null Count   Dtype \n",
      "---  ------        --------------   ----- \n",
      " 0   user_id       290585 non-null  int64 \n",
      " 1   timestamp     290585 non-null  object\n",
      " 2   group         290585 non-null  object\n",
      " 3   landing_page  290585 non-null  object\n",
      " 4   converted     290585 non-null  int64 \n",
      "dtypes: int64(2), object(3)\n",
      "memory usage: 13.3+ MB\n"
     ]
    }
   ],
   "source": [
    "df2.info()"
   ]
  },
  {
   "cell_type": "markdown",
   "metadata": {
    "id": "iC3AziKVYaT0"
   },
   "source": [
    "`3.` Use **df2** to answer questions below."
   ]
  },
  {
   "cell_type": "markdown",
   "metadata": {
    "id": "Juu6J712YaT0"
   },
   "source": [
    "a. How many unique **user_id**s are in **df2**?"
   ]
  },
  {
   "cell_type": "code",
   "execution_count": 11,
   "metadata": {
    "id": "DDn7z10JYaT0",
    "outputId": "ac051e79-be9d-4f9c-fb69-763fa8e6b6d0"
   },
   "outputs": [
    {
     "data": {
      "text/plain": [
       "290584"
      ]
     },
     "execution_count": 11,
     "metadata": {},
     "output_type": "execute_result"
    }
   ],
   "source": [
    "#calculare the number of unique user_id \n",
    "len(df2['user_id'].unique())"
   ]
  },
  {
   "cell_type": "markdown",
   "metadata": {
    "collapsed": true,
    "id": "Zo2d-UmMYaT0"
   },
   "source": [
    "b. There is one **user_id** repeated in **df2**.  What is it?"
   ]
  },
  {
   "cell_type": "code",
   "execution_count": 12,
   "metadata": {
    "id": "dOCmTqgJYaT1",
    "outputId": "1cbfc440-39bb-4d34-9fe2-2b85955fdb0d"
   },
   "outputs": [
    {
     "data": {
      "text/html": [
       "<div>\n",
       "<style scoped>\n",
       "    .dataframe tbody tr th:only-of-type {\n",
       "        vertical-align: middle;\n",
       "    }\n",
       "\n",
       "    .dataframe tbody tr th {\n",
       "        vertical-align: top;\n",
       "    }\n",
       "\n",
       "    .dataframe thead th {\n",
       "        text-align: right;\n",
       "    }\n",
       "</style>\n",
       "<table border=\"1\" class=\"dataframe\">\n",
       "  <thead>\n",
       "    <tr style=\"text-align: right;\">\n",
       "      <th></th>\n",
       "      <th>user_id</th>\n",
       "      <th>timestamp</th>\n",
       "      <th>group</th>\n",
       "      <th>landing_page</th>\n",
       "      <th>converted</th>\n",
       "    </tr>\n",
       "  </thead>\n",
       "  <tbody>\n",
       "    <tr>\n",
       "      <th>1899</th>\n",
       "      <td>773192</td>\n",
       "      <td>2017-01-09 05:37:58.781806</td>\n",
       "      <td>treatment</td>\n",
       "      <td>new_page</td>\n",
       "      <td>0</td>\n",
       "    </tr>\n",
       "    <tr>\n",
       "      <th>2893</th>\n",
       "      <td>773192</td>\n",
       "      <td>2017-01-14 02:55:59.590927</td>\n",
       "      <td>treatment</td>\n",
       "      <td>new_page</td>\n",
       "      <td>0</td>\n",
       "    </tr>\n",
       "  </tbody>\n",
       "</table>\n",
       "</div>"
      ],
      "text/plain": [
       "      user_id                   timestamp      group landing_page  converted\n",
       "1899   773192  2017-01-09 05:37:58.781806  treatment     new_page          0\n",
       "2893   773192  2017-01-14 02:55:59.590927  treatment     new_page          0"
      ]
     },
     "execution_count": 12,
     "metadata": {},
     "output_type": "execute_result"
    }
   ],
   "source": [
    "#find out the duplicate user_id\n",
    "df2[df2.duplicated(['user_id'], keep=False)]"
   ]
  },
  {
   "cell_type": "markdown",
   "metadata": {
    "id": "olfSQwwSYaT1"
   },
   "source": [
    "c. What is the row information for the repeat **user_id**? "
   ]
  },
  {
   "cell_type": "code",
   "execution_count": 13,
   "metadata": {
    "id": "Ms37BdqLYaT1"
   },
   "outputs": [],
   "source": [
    "#information found above, rows 1899 and 2893"
   ]
  },
  {
   "cell_type": "markdown",
   "metadata": {
    "id": "efIfaUi5YaT1"
   },
   "source": [
    "d. Remove **one** of the rows with a duplicate **user_id**, but keep your dataframe as **df2**."
   ]
  },
  {
   "cell_type": "code",
   "execution_count": 14,
   "metadata": {
    "id": "jvKTg-PiYaT2"
   },
   "outputs": [],
   "source": [
    "#remove one of the duplicated rows\n",
    "df2.drop(labels = 2893, inplace=True)"
   ]
  },
  {
   "cell_type": "code",
   "execution_count": 15,
   "metadata": {
    "id": "X3nP0IpgYaT2",
    "outputId": "0da3383c-67eb-40bd-93c1-9b11e9e26463"
   },
   "outputs": [
    {
     "name": "stdout",
     "output_type": "stream",
     "text": [
      "<class 'pandas.core.frame.DataFrame'>\n",
      "Int64Index: 290584 entries, 0 to 294477\n",
      "Data columns (total 5 columns):\n",
      " #   Column        Non-Null Count   Dtype \n",
      "---  ------        --------------   ----- \n",
      " 0   user_id       290584 non-null  int64 \n",
      " 1   timestamp     290584 non-null  object\n",
      " 2   group         290584 non-null  object\n",
      " 3   landing_page  290584 non-null  object\n",
      " 4   converted     290584 non-null  int64 \n",
      "dtypes: int64(2), object(3)\n",
      "memory usage: 13.3+ MB\n"
     ]
    }
   ],
   "source": [
    "#verify if number of rows have been drop by one\n",
    "df2.info()"
   ]
  },
  {
   "cell_type": "markdown",
   "metadata": {
    "id": "4OEaAmA_YaT2"
   },
   "source": [
    "`4.` Use **df2** to answer the  questions below\n",
    "\n",
    "a. What is the probability of an individual converting regardless of the page they receive?"
   ]
  },
  {
   "cell_type": "code",
   "execution_count": 16,
   "metadata": {
    "id": "fBTK8WTeYaT2",
    "outputId": "be672232-76be-40b7-f8fb-816baa86f6a1"
   },
   "outputs": [
    {
     "data": {
      "text/plain": [
       "0.11959708724499628"
      ]
     },
     "execution_count": 16,
     "metadata": {},
     "output_type": "execute_result"
    }
   ],
   "source": [
    "#calculate the averga of the converted column \n",
    "df2['converted'].mean()"
   ]
  },
  {
   "cell_type": "markdown",
   "metadata": {
    "id": "X1KRBE4gYaT2"
   },
   "source": [
    "b. Given that an individual was in the `control` group, what is the probability they converted?"
   ]
  },
  {
   "cell_type": "code",
   "execution_count": 17,
   "metadata": {
    "id": "-LG4Zi2VYaT3",
    "outputId": "155dc8b6-85ab-436a-82a7-fc9d2727137d"
   },
   "outputs": [
    {
     "name": "stderr",
     "output_type": "stream",
     "text": [
      "/var/folders/1r/j7hbz3757qbc87pbw8ghcq6h0000gp/T/ipykernel_18349/1658983112.py:5: FutureWarning: The default value of numeric_only in DataFrameGroupBy.mean is deprecated. In a future version, numeric_only will default to False. Either specify numeric_only or select only columns which should be valid for the function.\n",
      "  df2.groupby(['group'],as_index=False).mean()\n"
     ]
    },
    {
     "data": {
      "text/html": [
       "<div>\n",
       "<style scoped>\n",
       "    .dataframe tbody tr th:only-of-type {\n",
       "        vertical-align: middle;\n",
       "    }\n",
       "\n",
       "    .dataframe tbody tr th {\n",
       "        vertical-align: top;\n",
       "    }\n",
       "\n",
       "    .dataframe thead th {\n",
       "        text-align: right;\n",
       "    }\n",
       "</style>\n",
       "<table border=\"1\" class=\"dataframe\">\n",
       "  <thead>\n",
       "    <tr style=\"text-align: right;\">\n",
       "      <th></th>\n",
       "      <th>group</th>\n",
       "      <th>user_id</th>\n",
       "      <th>converted</th>\n",
       "    </tr>\n",
       "  </thead>\n",
       "  <tbody>\n",
       "    <tr>\n",
       "      <th>0</th>\n",
       "      <td>control</td>\n",
       "      <td>788164.072594</td>\n",
       "      <td>0.120386</td>\n",
       "    </tr>\n",
       "    <tr>\n",
       "      <th>1</th>\n",
       "      <td>treatment</td>\n",
       "      <td>787845.719290</td>\n",
       "      <td>0.118808</td>\n",
       "    </tr>\n",
       "  </tbody>\n",
       "</table>\n",
       "</div>"
      ],
      "text/plain": [
       "       group        user_id  converted\n",
       "0    control  788164.072594   0.120386\n",
       "1  treatment  787845.719290   0.118808"
      ]
     },
     "execution_count": 17,
     "metadata": {},
     "output_type": "execute_result"
    }
   ],
   "source": [
    "#view the probability of the converted rate for both control and treatment by applying method\n",
    "\n",
    "#df2.groupby(['group'],as_index=False).mean()\n",
    "\n",
    "df2.groupby(['group'],as_index=False).mean()\n",
    "\n"
   ]
  },
  {
   "cell_type": "markdown",
   "metadata": {
    "id": "IV6d_ijEYaT3"
   },
   "source": [
    "c. Given that an individual was in the `treatment` group, what is the probability they converted?"
   ]
  },
  {
   "cell_type": "code",
   "execution_count": 18,
   "metadata": {
    "id": "FtV-2fdGYaT3",
    "outputId": "b133e28f-18f5-40c8-e6c4-6112df17804a"
   },
   "outputs": [
    {
     "name": "stderr",
     "output_type": "stream",
     "text": [
      "/var/folders/1r/j7hbz3757qbc87pbw8ghcq6h0000gp/T/ipykernel_18349/809176049.py:2: FutureWarning: The default value of numeric_only in DataFrameGroupBy.mean is deprecated. In a future version, numeric_only will default to False. Either specify numeric_only or select only columns which should be valid for the function.\n",
      "  df2.groupby(['group'],as_index=False).mean()\n"
     ]
    },
    {
     "data": {
      "text/html": [
       "<div>\n",
       "<style scoped>\n",
       "    .dataframe tbody tr th:only-of-type {\n",
       "        vertical-align: middle;\n",
       "    }\n",
       "\n",
       "    .dataframe tbody tr th {\n",
       "        vertical-align: top;\n",
       "    }\n",
       "\n",
       "    .dataframe thead th {\n",
       "        text-align: right;\n",
       "    }\n",
       "</style>\n",
       "<table border=\"1\" class=\"dataframe\">\n",
       "  <thead>\n",
       "    <tr style=\"text-align: right;\">\n",
       "      <th></th>\n",
       "      <th>group</th>\n",
       "      <th>user_id</th>\n",
       "      <th>converted</th>\n",
       "    </tr>\n",
       "  </thead>\n",
       "  <tbody>\n",
       "    <tr>\n",
       "      <th>0</th>\n",
       "      <td>control</td>\n",
       "      <td>788164.072594</td>\n",
       "      <td>0.120386</td>\n",
       "    </tr>\n",
       "    <tr>\n",
       "      <th>1</th>\n",
       "      <td>treatment</td>\n",
       "      <td>787845.719290</td>\n",
       "      <td>0.118808</td>\n",
       "    </tr>\n",
       "  </tbody>\n",
       "</table>\n",
       "</div>"
      ],
      "text/plain": [
       "       group        user_id  converted\n",
       "0    control  788164.072594   0.120386\n",
       "1  treatment  787845.719290   0.118808"
      ]
     },
     "execution_count": 18,
     "metadata": {},
     "output_type": "execute_result"
    }
   ],
   "source": [
    "#as above\n",
    "df2.groupby(['group'],as_index=False).mean()"
   ]
  },
  {
   "cell_type": "markdown",
   "metadata": {
    "id": "yk8QiThOYaT3"
   },
   "source": [
    "d. What is the probability that an individual received the new page?"
   ]
  },
  {
   "cell_type": "code",
   "execution_count": 19,
   "metadata": {
    "id": "_BuEefT0YaT3",
    "outputId": "f12fbb72-20a0-4330-8976-3e86a80a353d"
   },
   "outputs": [
    {
     "data": {
      "text/plain": [
       "0.5000619442226688"
      ]
     },
     "execution_count": 19,
     "metadata": {},
     "output_type": "execute_result"
    }
   ],
   "source": [
    "#retrieve the new_page values and compared with the total number of landing_page \n",
    "#in order to obtain the probability that an individual that received the \n",
    "#new_page was converted\n",
    "\n",
    "len(df2.query('landing_page == \"new_page\"'))/len(df2.landing_page)"
   ]
  },
  {
   "cell_type": "markdown",
   "metadata": {
    "id": "8eOL68K2YaT4"
   },
   "source": [
    "e. Consider your results from a. through d. above, and explain below whether you think there is sufficient evidence to say that the new treatment page leads to more conversions."
   ]
  },
  {
   "cell_type": "markdown",
   "metadata": {
    "id": "sv025XHeYaT4"
   },
   "source": [
    "No, there is **not sufficient evidence to say that the new treatment page leads to more conversions.**\n",
    "\n",
    "The test seems to be well designed. Half of the population received the old_page and half of the population received the new_page. The population is considerable in size (290584 users). \n",
    "\n",
    "12.04% that received the old_page were converted. 11.88% that received the new_page were converted. \n",
    "In conclusion, **the new_page did not increase the conversion rate.** "
   ]
  },
  {
   "cell_type": "markdown",
   "metadata": {
    "id": "hWbN3V-UYaT4"
   },
   "source": [
    "<a id='ab_test'></a>\n",
    "### Part II - A/B Test\n",
    "\n",
    "#### Difficulty:\n",
    "Notice that because of the time stamp associated with each event, you could technically run a hypothesis test continuously as each observation was observed.  \n",
    "\n",
    "However, then the hard question is do you stop as soon as one page is considered significantly better than another or does it need to happen consistently for a certain amount of time?  How long do you run to render a decision that neither page is better than another?  \n",
    "\n",
    "These questions are the **difficult parts** associated with A/B tests in general.  \n",
    "\n",
    "\n",
    "`1.` For now, consider you need to make the decision just based on all the data provided.  If you want to assume that the old page is better unless the new page proves to be definitely better at a Type I error rate of 5%, what should your null and alternative hypotheses be?  You can state your hypothesis in terms of words or in terms of **$p_{old}$** and **$p_{new}$**, which are the converted rates for the old and new pages."
   ]
  },
  {
   "cell_type": "markdown",
   "metadata": {
    "id": "Q_0GWL7SYaT4"
   },
   "source": [
    "- Null hypothesis $H_{0}$: the conversion rate of the old_page is greater or the same than the conversion rate of the new_page. **$p_{old}$** >= **$p_{new}$**\n",
    "\n",
    "\n",
    "- Alternative hypothesis $H_{1}$: the conversion rate of the old_page is less than the conversion rate of the new_page. \n",
    "    **$p_{old}$** < **$p_{new}$**"
   ]
  },
  {
   "cell_type": "markdown",
   "metadata": {
    "id": "YmkYCTyDYaT4"
   },
   "source": [
    "`2.` Assume under the null hypothesis, $p_{new}$ and $p_{old}$ both have \"true\" success rates equal to the **converted** success rate regardless of page - that is $p_{new}$ and $p_{old}$ are equal. Furthermore, assume they are equal to the **converted** rate in **ab_data.csv** regardless of the page. <br><br>\n",
    "\n",
    "Use a sample size for each page equal to the ones in **ab_data.csv**.  <br><br>\n",
    "\n",
    "Perform the sampling distribution for the difference in **converted** between the two pages over 10,000 iterations of calculating an estimate from the null.  <br><br>\n",
    "\n",
    "Use the cells below to provide the necessary parts of this simulation.  "
   ]
  },
  {
   "cell_type": "markdown",
   "metadata": {
    "id": "Qk3VhBldYaT5"
   },
   "source": [
    "a. What is the **convert rate** for $p_{new}$ under the null? "
   ]
  },
  {
   "cell_type": "code",
   "execution_count": 20,
   "metadata": {
    "id": "8u8x03whYaT5",
    "outputId": "83333fd0-5870-4056-e584-ff229d69c13d"
   },
   "outputs": [
    {
     "data": {
      "text/plain": [
       "0.11959708724499628"
      ]
     },
     "execution_count": 20,
     "metadata": {},
     "output_type": "execute_result"
    }
   ],
   "source": [
    "#the Null hypothesis states there is not difference between the \n",
    "#conversion rates of old and new page. Thus, the whole dataset is used to \n",
    "#calculate the convertion rate for the new page (pnew).\n",
    "p_new = df2['converted'].mean()\n",
    "p_new"
   ]
  },
  {
   "cell_type": "markdown",
   "metadata": {
    "id": "3FR8DkLYYaT5"
   },
   "source": [
    "b. What is the **convert rate** for $p_{old}$ under the null? <br><br>"
   ]
  },
  {
   "cell_type": "code",
   "execution_count": 21,
   "metadata": {
    "id": "BjkmXMVyYaT_",
    "outputId": "3777ce45-ca50-46dd-c1fd-4d1ecfa35feb"
   },
   "outputs": [
    {
     "data": {
      "text/plain": [
       "0.11959708724499628"
      ]
     },
     "execution_count": 21,
     "metadata": {},
     "output_type": "execute_result"
    }
   ],
   "source": [
    "#the Null hypothesis states there is not difference between the \n",
    "#conversion rates of old and new page. Thus, the whole dataset is used to \n",
    "#calculate the convertion rate for the old_page (pold).\n",
    "p_old = df2['converted'].mean()\n",
    "p_old"
   ]
  },
  {
   "cell_type": "markdown",
   "metadata": {
    "id": "ZXZord1jYaT_"
   },
   "source": [
    "c. What is $n_{new}$?"
   ]
  },
  {
   "cell_type": "code",
   "execution_count": 22,
   "metadata": {
    "id": "F8yz-1tWYaT_",
    "outputId": "78dab0ec-e80f-463d-df7b-d44da441f6a2"
   },
   "outputs": [
    {
     "data": {
      "text/plain": [
       "145310"
      ]
     },
     "execution_count": 22,
     "metadata": {},
     "output_type": "execute_result"
    }
   ],
   "source": [
    "#calculate the number of users landed and new_page\n",
    "n_new = len(df2.query('landing_page == \"new_page\"'))\n",
    "n_new"
   ]
  },
  {
   "cell_type": "markdown",
   "metadata": {
    "id": "Q8HQwoXcYaUA"
   },
   "source": [
    "d. What is $n_{old}$?"
   ]
  },
  {
   "cell_type": "code",
   "execution_count": 23,
   "metadata": {
    "id": "3WohqwiVYaUA",
    "outputId": "79eb6b60-7955-40bf-814f-5df4d0d33174"
   },
   "outputs": [
    {
     "data": {
      "text/plain": [
       "145274"
      ]
     },
     "execution_count": 23,
     "metadata": {},
     "output_type": "execute_result"
    }
   ],
   "source": [
    "#calculate the number of users landed and new_page\n",
    "n_old = len(df2.query('landing_page == \"old_page\"'))\n",
    "n_old"
   ]
  },
  {
   "cell_type": "markdown",
   "metadata": {
    "id": "kHY9BnSoYaUA"
   },
   "source": [
    "e. Simulate $n_{new}$ transactions with a convert rate of $p_{new}$ under the null.  Store these $n_{new}$ 1's and 0's in **new_page_converted**."
   ]
  },
  {
   "cell_type": "code",
   "execution_count": 24,
   "metadata": {
    "id": "JFrK0q_DYaUA",
    "outputId": "24cc147b-0cea-4a1f-caf8-2d40c9f260ae"
   },
   "outputs": [
    {
     "data": {
      "text/plain": [
       "0.12025325166884591"
      ]
     },
     "execution_count": 24,
     "metadata": {},
     "output_type": "execute_result"
    }
   ],
   "source": [
    "\n",
    "#new_page_converted = np.random.binomial(1,p_new，p_old)\n",
    "new_page_converted = np.random.choice([1, 0], size=n_new, p=[p_new, (1-p_new)])\n",
    "new_page_converted.mean()"
   ]
  },
  {
   "cell_type": "markdown",
   "metadata": {
    "id": "0I6Gwld8YaUA"
   },
   "source": [
    "f. Simulate $n_{old}$ transactions with a convert rate of $p_{old}$ under the null.  Store these $n_{old}$ 1's and 0's in **old_page_converted**."
   ]
  },
  {
   "cell_type": "code",
   "execution_count": 25,
   "metadata": {
    "id": "ePhwbD7NYaUB",
    "outputId": "a6f14ea5-1379-4e35-c1d5-bc32a5f43c0d"
   },
   "outputs": [
    {
     "data": {
      "text/plain": [
       "0.11973925134573289"
      ]
     },
     "execution_count": 25,
     "metadata": {},
     "output_type": "execute_result"
    }
   ],
   "source": [
    "old_page_converted = np.random.choice([1, 0], size=n_old, p=[p_old, (1-p_old)])\n",
    "old_page_converted.mean()\n"
   ]
  },
  {
   "cell_type": "markdown",
   "metadata": {
    "id": "zXnC2A2GYaUB"
   },
   "source": [
    "g. Find $p_{new}$ - $p_{old}$ for your simulated values from part (e) and (f)."
   ]
  },
  {
   "cell_type": "code",
   "execution_count": 26,
   "metadata": {
    "id": "4Rafgd6-YaUB",
    "outputId": "dda0fb26-4bee-4a72-eed0-16f1f2a26f74"
   },
   "outputs": [
    {
     "data": {
      "text/plain": [
       "0.000514000323113023"
      ]
     },
     "execution_count": 26,
     "metadata": {},
     "output_type": "execute_result"
    }
   ],
   "source": [
    "#since new_page_converted and old_page_converted have different sizes, \n",
    "#I use the mean to get the difference\n",
    "new_page_converted.mean() - old_page_converted.mean()"
   ]
  },
  {
   "cell_type": "markdown",
   "metadata": {
    "id": "ptmHWQLDYaUB"
   },
   "source": [
    "h. Simulate 10,000 $p_{new}$ - $p_{old}$ values using this same process similarly to the one you calculated in parts **a. through g.** above.  Store all 10,000 values in a numpy array called **p_diffs**."
   ]
  },
  {
   "cell_type": "code",
   "execution_count": 27,
   "metadata": {
    "id": "V0Q-Xov0YaUB"
   },
   "outputs": [],
   "source": [
    "# run simulation 10000 times\n",
    "p_diffs = []\n",
    "\n",
    "for _ in range(10000):\n",
    "    new_page_converted = np.random.binomial(1,p_new,n_new).mean()\n",
    "    old_page_converted = np.random.binomial(1,p_old,n_old).mean()\n",
    "    p_diffs.append(new_page_converted - old_page_converted)\n",
    "    "
   ]
  },
  {
   "cell_type": "markdown",
   "metadata": {
    "id": "j2adQHL8YaUC"
   },
   "source": [
    "i. Plot a histogram of the **p_diffs**.  "
   ]
  },
  {
   "cell_type": "code",
   "execution_count": 28,
   "metadata": {
    "id": "Z_iT2nB8YaUC",
    "outputId": "a03e5ae1-3b5d-4261-d816-758ef13e2fe7"
   },
   "outputs": [
    {
     "data": {
      "text/plain": [
       "Text(0.5, 1.0, 'Simulated Difference of new_page & old_page converted under the Null')"
      ]
     },
     "execution_count": 28,
     "metadata": {},
     "output_type": "execute_result"
    },
    {
     "data": {
      "image/png": "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\n",
      "text/plain": [
       "<Figure size 640x480 with 1 Axes>"
      ]
     },
     "metadata": {},
     "output_type": "display_data"
    }
   ],
   "source": [
    "# convert to numpy array\n",
    "p_diffs = np.array(p_diffs)\n",
    "\n",
    "# plot sampling distribution\n",
    "plt.hist(p_diffs)\n",
    "plt.xlabel('p_diffs')\n",
    "plt.ylabel('Frequency')\n",
    "plt.title('Simulated Difference of new_page & old_page converted under the Null')"
   ]
  },
  {
   "cell_type": "markdown",
   "metadata": {
    "id": "KuYZFT-mYaUC"
   },
   "source": [
    "j. What proportion of the **p_diffs** are greater than the actual difference observed in **ab_data.csv**?"
   ]
  },
  {
   "cell_type": "code",
   "execution_count": 29,
   "metadata": {
    "id": "qlTnoqxnYaUC",
    "outputId": "be5a6da6-2aac-4254-8f08-cf82a9d0b5bd"
   },
   "outputs": [
    {
     "data": {
      "text/plain": [
       "-0.0015782389853555567"
      ]
     },
     "execution_count": 29,
     "metadata": {},
     "output_type": "execute_result"
    }
   ],
   "source": [
    "df_control = df2.query('group == \"control\"')\n",
    "df_treatment = df2.query('group == \"treatment\"')\n",
    "\n",
    "# display observed difference\n",
    "obs_diff = df_treatment.converted.mean() - df_control.converted.mean()\n",
    "obs_diff"
   ]
  },
  {
   "cell_type": "code",
   "execution_count": 30,
   "metadata": {
    "id": "xIuPrmkHYaUC",
    "outputId": "0694c44f-ed42-4ac0-f612-ab745d7d11be"
   },
   "outputs": [
    {
     "data": {
      "image/png": "iVBORw0KGgoAAAANSUhEUgAAAngAAAHFCAYAAABhK4QMAAAAOXRFWHRTb2Z0d2FyZQBNYXRwbG90bGliIHZlcnNpb24zLjcuMCwgaHR0cHM6Ly9tYXRwbG90bGliLm9yZy88F64QAAAACXBIWXMAAA9hAAAPYQGoP6dpAABa50lEQVR4nO3dd1QUV/8G8Gel15UiLCgCsSv2ikYBC2KNGqMGY4lGjb3ga/RNjJoYayyJxhqDPRoTTYwFxUZijSXYWwx2EAuCoILA9/eHL/NzaQKCi8PzOWfPYe7cmb33zpaHaasREQERERERqUYxQzeAiIiIiPIXAx4RERGRyjDgEREREakMAx4RERGRyjDgEREREakMAx4RERGRyjDgEREREakMAx4RERGRyjDgEREREanMawl4R44cQceOHVG6dGmYmZnB2dkZ3t7eCAoK0qvn6+sLX1/f19GkDPbt2weNRoN9+/bletlz585h4sSJuHr1ar63a+LEidBoNC+t17t3b2g0GuVhZWUFDw8PtG/fHsHBwUhMTMywTGbjffXqVbRp0wb29vbQaDQYMWIEAODvv/+Gj48PtFotNBoN5s6dmw+9U7+sxpMM69ChQ/Dx8YGtrS0cHR3RtGlT7N27t0CeS6PRYOLEiS+tt3z5cmg0mgL5HCHDWLBgAZYvX14g687p6+p1eZXv0NzK7jvX19cXXl5eBd6GtO/cKlWqICUlJcN8jUaDIUOG5HndHh4eemUeHh7o3bt3rtZjnKdnz4WtW7eiffv28PX1xYwZM+Di4oLIyEgcO3YM69atw6xZs5S6CxYsKOjmFIhz585h0qRJ8PX1zbBRXicLCwvs2bMHAPDkyRPcuHED27dvR79+/TBr1iyEhISgVKlSSv3MxnvkyJE4cuQIfvjhB+h0Ori4uAAA+vTpg4SEBKxbtw52dnYG7eebJKvxJMO5du0aWrZsiSpVqmDt2rVISUlBaGgojh07Bj8/P0M3j1RkwYIFcHR0zPUXM2WvsHznprVl+fLl6Nu3r0HbkZkCD3gzZsyAp6cnduzYAWPj/3+6bt26YcaMGXp1K1euXNDNUbVixYqhQYMGemU9e/bEhx9+iLZt26Jz5844fPiwMi+z8T5z5gzq1auHDh06ZCjv168fWrVqlS9tTUlJQXJyMszMzPJlfYVVVuNJhrNt2zY8evQIwcHBqFixIgDgnXfeMXCrSE0eP34MS0tLQzfjjfYmjKGVlRVq1aqFCRMmIDAwEBYWFoZukp4CP0R7//59ODo66oU75cmL6T99+kOGV69ehUajwcyZMzF9+nR4eHjAwsICvr6+uHTpEp49e4axY8fC1dUVWq0WHTt2RHR0tN46s9qNnZPdnceOHUO3bt2U5/Xw8MD777+Pa9euKXWWL1+O9957DwDg5+enHCJ9cbf8rl270KxZM9ja2sLS0hKNGjXC7t27Mzzf1q1bUaNGDZiZmcHT0xNff/11tu3LKX9/f/Tr1w9HjhzBH3/8oZS/ON5pu9f/+ecfbN++Xa8fGo0GycnJWLhwoVKeJioqCgMGDECpUqVgamoKT09PTJo0CcnJyUqdtO04Y8YMTJ48GZ6enjAzM1MOiR07dgzt27eHvb09zM3NUbNmTfz00096fUhrx969ezFw4EA4OjrCwcEBnTp1wu3btzP0ee3atfD29oa1tTWsra1Ro0YNLFu2TK9OTrdLZq5fv44PPvgATk5OMDMzQ6VKlTBr1iykpqZmO57ZHX5L26W/atUqVKpUCZaWlqhevTq2bNmSoe7ly5cRGBio9/zfffedMl9E4OzsjMGDBytlKSkpsLOzQ7FixXDnzh2lfPbs2TA2NsbDhw9z1Pe0vq1evRqjRo2CTqeDhYUFfHx88Pfff+vVzcl7KM3+/fvh7e0Nc3NzlCxZEuPHj8f333+f6bitX78e3t7esLKygrW1NVq2bJnhubNiZGQEALh48WKO6mflZa+B7Bw+fBiNGjWCubk5XF1dMW7cODx79izXbUg7hePvv/9Gp06dYGtrC61Wiw8++AB3797Vq7t+/Xr4+/vDxcUFFhYWqFSpEsaOHYuEhIQM6126dCnKly8PMzMzVK5cGWvXrs30sFFSUhImT56MihUrwszMDCVKlMCHH36Y4bmzcuTIEbRr1w4ODg4wNzdHmTJlMpzGsH//fjRr1gw2NjawtLREw4YNsXXrVr06Of186NChA9zd3TPdRvXr10etWrWUaRHBggULUKNGDVhYWMDOzg6dO3fGv//+q7dc2iHBP/74Aw0bNoSlpSX69OkDDw8PnD17FmFhYcr7/8Xxi4uLw+jRo+Hp6QlTU1OULFkSI0aMyLA94uLi0K9fPzg4OMDa2hoBAQG4dOlSjsY3q8P+mR1OTevH0aNH0bhxY1haWuKtt97CtGnTMozXhQsXEBAQAEtLSzg6OuLjjz/Go0ePMm1DTj5n017HJ06cQOfOnWFnZ4cyZcpk2aeXfecCyFE/croNsjN9+nTcunUL33zzTbb1crMt8o0UsI8++kgAyNChQ+Xw4cOSlJSUZV0fHx/x8fFRpiMiIgSAuLu7S7t27WTLli2yevVqcXZ2lvLly0uPHj2kT58+sn37dlm0aJFYW1tLu3bt9NYJQCZMmJDhudzd3aVXr17K9N69ewWA7N27VynbsGGDfP7557Jp0yYJCwuTdevWiY+Pj5QoUULu3r0rIiLR0dEyZcoUASDfffedHDp0SA4dOiTR0dEiIrJq1SrRaDTSoUMH2bhxo/z+++/Stm1bMTIykl27dinPtWvXLjEyMpK3335bNm7cKBs2bJC6detK6dKlJSebqVevXmJlZZXl/JCQEAEgX375ZabjHRsbK4cOHRKdTieNGjVS+hEVFSWHDh0SANK5c2elXEQkMjJS3NzcxN3dXRYvXiy7du2SL7/8UszMzKR3797K86Rtx5IlS4qfn5/8/PPPsnPnTomIiJA9e/aIqampNG7cWNavXy8hISHSu3dvASDBwcHKOoKDgwWAvPXWWzJ06FDZsWOHfP/992JnZyd+fn56fR0/frwAkE6dOsmGDRtk586dMnv2bBk/frxSJ6fbJTPR0dFSsmRJKVGihCxatEhCQkJkyJAhAkAGDhyY7Xg+ffo0y/UCEA8PD6lXr5789NNPsm3bNvH19RVjY2O5cuWKUu/s2bOi1WqlatWqsnLlStm5c6cEBQVJsWLFZOLEiUq9bt26Sfny5ZXpw4cPCwCxsLCQNWvWKOWtWrWSevXqZdvnF6W9V9zc3OSdd96R33//XVavXi1ly5YVW1tbvbbm5D0kInLy5EkxNzeXatWqybp162Tz5s3SunVr8fDwEAASERGh1P3qq69Eo9FInz59ZMuWLbJx40bx9vYWKysrOXv27Evbf+/ePbG3txedTieXL1/Ocb9flJPXQJr0n0Fnz54VS0tLqVy5svz444/y22+/ScuWLZX3+ot9fZkJEyYon5H/+c9/ZMeOHTJ79myxsrKSmjVr6n3efvnllzJnzhzZunWr7Nu3TxYtWiSenp4Z3j+LFy8WAPLuu+/Kli1bZM2aNVK+fHlxd3cXd3d3pV5KSooEBASIlZWVTJo0SUJDQ+X777+XkiVLSuXKleXx48fZtj0kJERMTEykWrVqsnz5ctmzZ4/88MMP0q1bN6XOvn37xMTERGrXri3r16+XX3/9Vfz9/UWj0ci6deuUejn9fPjtt98EgISGhuq15fz58wJAvv32W6WsX79+YmJiIkFBQRISEiJr166VihUrirOzs0RFRSn1fHx8xN7eXtzc3GTevHmyd+9eCQsLkxMnTshbb70lNWvWVN7/J06cEBGRhIQEqVGjhjg6Osrs2bNl165d8s0334hWq5WmTZtKamqqiIikpqaKn5+fmJmZyVdffSU7d+6UCRMmyFtvvZXld9uL0sYl/Wsqs+87Hx8fcXBwkHLlysmiRYskNDRUBg0aJABkxYoVSr2oqChxcnKSkiVLSnBwsGzbtk26d++uvH5fXGdOP2dffB1/8sknEhoaKr/++mumfXrZd25O+5HTbZCVF79zO3bsKMWLF5f79+8r8wHI4MGD87QtevXqpfdeE8mYWXKiwAPevXv35O233xYAAkBMTEykYcOGMnXqVHn06JFe3awCXvXq1SUlJUUpnzt3rgCQ9u3b6y0/YsQIASCxsbFK2asEvPSSk5MlPj5erKys5JtvvlHKN2zYkOmyCQkJYm9vnyF0pqSkSPXq1fW+VOvXry+urq7y5MkTpSwuLk7s7e3zJeClfYC9+OWTfrxFno9LmzZtMiyf/sUqIjJgwACxtraWa9eu6ZV//fXXAkD5sk3bjmXKlMkQ8CtWrCg1a9aUZ8+e6ZW3bdtWXFxclO2e9uYYNGiQXr0ZM2YIAImMjBQRkX///VeMjIyke/fuWY5FbrZLZsaOHSsA5MiRI3rlAwcOFI1GIxcvXlTKshrPzAAQZ2dniYuLU8qioqKkWLFiMnXqVKWsZcuWUqpUKb3XuYjIkCFDxNzcXB48eCAiIt9//70AkOvXr4uIyOTJk6VixYrSvn17+fDDD0VEJCkpSaysrOS///1vjtoo8v/vlVq1aul9CF69elVMTEzko48+ynLZrN5D7733nlhZWemFvpSUFKlcubLeh+L169fF2NhYhg4dqrfeR48eiU6nky5dury0/Zs3bxZnZ2dxc3MTNzc3vUCaU7l5DaT/DOratatYWFjohYTk5GSpWLFingPeyJEj9crXrFkjAGT16tWZLpeamirPnj2TsLAwASAnT54UkedjrtPppH79+nr1r127JiYmJnpfOj/++KMAkF9++UWv7tGjRwWALFiwINu2lylTRsqUKaP3mZdegwYNxMnJSe+7Ijk5Wby8vKRUqVLK6y+nnw/Pnj0TZ2dnCQwM1Ks3ZswYMTU1lXv37omIKP/Uzpo1S6/ejRs3xMLCQsaMGaOU+fj4CADZvXt3hvZXqVIlw2esiMjUqVOlWLFicvToUb3yn3/+WQDItm3bRERk+/btAkDvvSLy/J+cggh4mb2mK1euLC1btlSmP/nkE9FoNBIeHq5Xr0WLFnrrzM3nbNrr+PPPP8+2P2my+s7NTT9yug2y8uJ37oULF8TIyEiCgoKU+YUh4BX4IVoHBwf8+eefOHr0KKZNm4Z33nkHly5dwrhx41C1alXcu3fvpeto3bq13uHcSpUqAQDatGmjVy+t/Pr16/nS9vj4eHzyyScoW7YsjI2NYWxsDGtrayQkJOD8+fMvXf7gwYN48OABevXqheTkZOWRmpqKgIAAHD16FAkJCUhISMDRo0fRqVMnmJubK8vb2NigXbt2+dKX56+3/LVlyxb4+fnB1dVVr39p5+mFhYXp1W/fvj1MTEyU6X/++QcXLlxA9+7dAUBvHa1bt0ZkZGSGw2jt27fXm65WrRoAKIf8QkNDkZKSondoMr2cbpes7NmzB5UrV0a9evX0ynv37g0RUS50yQs/Pz/Y2Ngo087OznByclL69/TpU+zevRsdO3aEpaVlhjF7+vSpcp5l8+bNATw/RAI8H5sWLVqgefPmCA0NBfD8atKEhASlbm4EBgbqHa53d3dHw4YN9a5Gzel7KCwsDE2bNoWjo6NSVqxYMXTp0kXvOXfs2IHk5GT07NlTr+/m5ubw8fF56WGOgwcP4t1338WCBQtw4MABmJiYwM/PDxEREUqdjz76CO7u7tmu51VeA3v37kWzZs3g7OyslBkZGaFr167ZPmd20t5Dabp06QJjY2O9bfHvv/8iMDAQOp0ORkZGMDExgY+PDwAo2+LixYuIiorKMO6lS5dGo0aN9Mq2bNmC4sWLo127dnrbokaNGtDpdNlui0uXLuHKlSvo27ev3mfeixISEnDkyBF07twZ1tbWSrmRkRF69OiBmzdv5vrzwdjYGB988AE2btyI2NhYAM9PXVi1ahXeeecdODg4KH3TaDT44IMP9Pqm0+lQvXr1DH2zs7ND06ZNs+xvelu2bIGXlxdq1Kiht/6WLVvqHa5L237pt29gYGCOnys3dDpdhtd0tWrV9E6p2Lt3L6pUqYLq1atn26a8fM6+++67r60fOd0GOVGhQgX07dsX8+fPz7f8kR8K/CKLNHXq1EGdOnUAAM+ePcMnn3yCOXPmYMaMGRkutkjP3t5eb9rU1DTb8qdPn+ZLmwMDA7F7926MHz8edevWha2tLTQaDVq3bo0nT568dPm085w6d+6cZZ0HDx5Ao9EgNTUVOp0uw/zMyvIi7YXt6uqaL+sDnvfv999/1wttL0of3tNfQZo2PqNHj8bo0aNztI60D+A0aRdppG2PtHN/XrxaOLN2Ay/fLlZWVpnOu3//fqZXbqWN7f3797Nc78uk7x/wvI9p/bt//z6Sk5Mxb948zJs3L9N1pI2Zu7s7ypQpg127dqFr1644dOgQgoKCULZsWQwbNgwXL17Erl27YGFhgYYNG+a6rVm9Xk+ePKlM5/Q9dP/+fb3AkyZ9Wdq2q1u3bqZtSn9eb3pfffUVKlSogE6dOgF4Hix9fX3h5+eHsLAwuLm54c8//8zwz2N6r/IauH//fr6/19Mva2xsDAcHB6Ud8fHxaNy4MczNzTF58mSUL18elpaWuHHjBjp16qT3+gIyjnta2YtB+M6dO3j48KHyuZtedv+85+R9GhMTAxHJ9MrzrMb5ZZ8PwPM7AsyaNQvr1q3DgAEDsGPHDkRGRuLDDz/U65v87zzWzLz11lt607m9Ov7OnTv4559/XvrZef/+fWVbvii/vhfSe9nnT1qbPD09M9RL36a8fM7m110GctKPnG6DnJo4cSJWr16N8ePHY8WKFblrcAF5bQHvRSYmJpgwYQLmzJmDM2fOFOhzmZmZZXoPuJd9CcfGxmLLli2YMGECxo4dq5QnJibiwYMHOXrutL0R8+bNy3B1axpnZ2c8e/YMGo0GUVFRGeZnVpYXmzdvBoB8vc+go6MjqlWrhq+++irT+enDZPr7+aWNz7hx45Qv3PQqVKiQqzaVKFECAHDz5k24ubll2W7g5dslKw4ODoiMjMxQnnYy94t7ofKbnZ2dsgcjq72UL374NmvWDL/99hvCwsKQmpoKX19f2NjYwNXVFaGhodi1axcaN26cp6uZs3q9pn245uY95ODgoHfhR1bPkTa2P//880v3smXmypUreh/+pUqV0gt5vXv3xrVr17L8h+PF9ub1NeDg4JDv7/WoqCiULFlSmU5OTsb9+/eVvu7Zswe3b9/Gvn37lL12ADJcWJNWP6fbwsHBASEhIZm26cU90em9+D7NStoFQfn9Xkvb8xocHIwBAwYgODgYrq6u8Pf3V+o4OjpCo9Hgzz//zPS9kb4sJ/cqfZGjoyMsLCzwww8/ZDkfeL490m9LIOevlbS9o+m/A3MbXl6U09dvXj5nczuOryKn2yCnXFxcMGLECEybNi3DPX6BgtkWL1PgAS8yMjLTVJ52SCA/9yhlxsPDA6dOndIr27NnD+Lj47NdTqPRQEQyvJG///77DDc1zOy/RABo1KgRihcvjnPnzmV7w0NTU1PUq1cPGzduxMyZM5UXwqNHj/D7779n38EcCA0Nxffff4+GDRvi7bfffuX1pWnbti22bduGMmXKwM7OLtfLV6hQAeXKlcPJkycxZcqUfGmTv78/jIyMsHDhQnh7e2daJ6fbJSvNmjXD1KlTceLECb2r7lauXAmNRlOg91KztLSEn58f/v77b1SrVi3LvSdpmjdvjiVLlmDu3Llo0KCB8qXbrFkzbNq0CUePHs3z2P/4448YNWqU8qF87do1HDx4ED179gSQu/eQj48Ptm3bhnv37ikfrKmpqdiwYYNevZYtW8LY2BhXrlzJ0+EcLy8vbNmyBefOnVNuE1SyZEmEhYWhUaNGmDBhAiZMmJBhD016r/Ia8PPzw+bNm3Hnzh3lCy4lJQXr16/PdX/SrFmzBrVr11amf/rpJyQnJyv/0KVto/TbYvHixXrTFSpUgE6nw08//YRRo0Yp5devX8fBgwf1Pq/btm2LdevWISUlBfXr189Ve8uXL48yZcrghx9+wKhRozINUVZWVqhfvz42btyIr7/+WrkFRWpqKlavXo1SpUqhfPnyuXreNB9++CEGDhyI/fv34/fff8eoUaOUq6vT+jZt2jTcunUrw+Hq3Ei/1+jF9U+ZMgUODg6Z7g1L4+fnhxkzZmDNmjUYNmyYUr527docPX/aXuZTp07p/bOc9g9/XqS16eTJk3qHadO36VU/Z7OT1XdubuR0G+TGJ598giVLluj9Q5umILbFyxR4wGvZsiVKlSqFdu3aoWLFikhNTUV4eDhmzZoFa2trDB8+vECfv0ePHhg/fjw+//xz+Pj44Ny5c5g/fz60Wm22y9na2qJJkyaYOXMmHB0d4eHhgbCwMCxbtgzFixfXq5t21+wlS5bAxsYG5ubm8PT0hIODA+bNm4devXrhwYMH6Ny5M5ycnHD37l2cPHkSd+/excKFCwEAX375JQICAtCiRQsEBQUhJSUF06dPh5WVVY73GKampirnXyUmJuL69evYvn07fvrpJ1SqVCnDrUde1RdffIHQ0FA0bNgQw4YNQ4UKFfD06VNcvXoV27Ztw6JFi7I9BAM8/4Jp1aoVWrZsid69e6NkyZJ48OABzp8/jxMnTmT4gn8ZDw8P/Pe//8WXX36JJ0+e4P3334dWq8W5c+dw7949TJo0CdbW1jneLpkZOXIkVq5ciTZt2uCLL76Au7s7tm7digULFmDgwIF5/tLJqW+++QZvv/02GjdujIEDB8LDwwOPHj3CP//8g99//13v/K+mTZtCo9Fg586dmDRpklLevHlz9OrVS/k7L6Kjo9GxY0f069cPsbGxmDBhAszNzTFu3DgAuXsPffrpp/j999/RrFkzfPrpp7CwsMCiRYuUc3TSDr16eHjgiy++wKeffop///0XAQEBsLOzw507d/DXX3/ByspKr5/pTZ48GXv27IGvry/+85//oFatWnjw4AG2bt2KmzdvolSpUli4cCG6du2qnNObmVd5DXz22WfYvHkzmjZtis8//xyWlpb47rvvcnVrhvQ2btwIY2NjtGjRAmfPnsX48eNRvXp1JZw0bNgQdnZ2+PjjjzFhwgSYmJhgzZo1eofTgefjPGnSJAwYMACdO3dGnz598PDhQ0yaNAkuLi56h8C7deuGNWvWoHXr1hg+fDjq1asHExMT3Lx5E3v37sU777yDjh07Ztnm7777Du3atUODBg0wcuRIlC5dGtevX8eOHTuwZs0aAMDUqVPRokUL+Pn5YfTo0TA1NcWCBQtw5swZ/Pjjj3ne4/P+++9j1KhReP/995GYmJjhllmNGjVC//798eGHH+LYsWNo0qQJrKysEBkZif3796Nq1aoYOHDgS5+natWqWLduHdavX4+33noL5ubmqFq1KkaMGIFffvkFTZo0wciRI1GtWjWkpqbi+vXr2LlzJ4KCglC/fn34+/ujSZMmGDNmDBISElCnTh0cOHAAq1atylE/69atiwoVKmD06NFITk6GnZ0dNm3ahP379+dl2AAAI0aMwA8//IA2bdpg8uTJcHZ2xpo1a3DhwgW9eq/6OZud7L5zc9OPnGyD3LC1tcWnn36KkSNHZphXENvipXJ1SUYerF+/XgIDA6VcuXJibW0tJiYmUrp0aenRo4ecO3dOr25WV9HOnDlTr17aVScbNmzQK0+7SuXFq2ISExNlzJgx4ubmJhYWFuLj4yPh4eE5uor25s2b8u6774qdnZ3Y2NhIQECAnDlzJtOrWebOnSuenp5iZGSU4RYfYWFh0qZNG7G3txcTExMpWbKktGnTJkP7N2/eLNWqVRNTU1MpXbq0TJs2Tbm66GV69eqlXKmM/90Ko3Tp0tKuXTv54YcfJDExMcMyr3oVrYjI3bt3ZdiwYeLp6SkmJiZib28vtWvXlk8//VTi4+NFJOvtmObkyZPSpUsXcXJyEhMTE9HpdNK0aVNZtGiRUiezbSuS9dXPK1eulLp164q5ublYW1tLzZo19baJSM63S2auXbsmgYGB4uDgICYmJlKhQgWZOXOm3tXeIrm/ijazMc7s9RYRESF9+vSRkiVLiomJiZQoUUIaNmwokydPzrB8zZo1BYAcOHBAKbt165YAEAcHh5feDiC9tDFftWqVDBs2TEqUKCFmZmbSuHFjOXbsmF7d3LyH/vzzT6lfv76YmZmJTqeT//znPzJ9+nQBIA8fPtSr++uvv4qfn5/Y2tqKmZmZuLu7S+fOnV96ixuR52PXu3dvcXV1FWNjY3FycpL33ntPDh06JHfu3JEyZcqITqfTuxI2Mzl9DSCTqx0PHDggDRo00OvrkiVL8nwV7fHjx6Vdu3ZibW0tNjY28v7778udO3f06h48eFC8vb3F0tJSSpQoIR999JGcOHEiw+eViMiSJUukbNmyYmpqKuXLl5cffvhB3nnnHalZs6ZevWfPnsnXX38t1atXV95rFStWlAEDBuToFjSHDh2SVq1aiVarFTMzMylTpkyGK4L//PNPadq0qVhZWYmFhYU0aNBAfv/9d706uf18EBEJDAwUANKoUaMs2/fDDz9I/fr1lecuU6aM9OzZU+917uPjI1WqVMl0+atXr4q/v7/Y2NgotwFJEx8fL5999plUqFBBTE1NlVsfjRw5Uu8K64cPH0qfPn2kePHiYmlpKS1atJALFy7k6CpaEZFLly6Jv7+/2NraSokSJWTo0KGydevWTK+izawfmV3Ree7cOWnRooWYm5uLvb299O3bV7kFTfqxzsnnbNrr+MWr6F8mq+/c3PQjp9sgM1nduSIxMVE8PT0z/TzP6bbIr6toNSIFcHklEanWvn374Ofnhw0bNmR7AnV+8Pf3x9WrV3N8Y9eiZuLEiZg0aRLu3r1boOd+Pnz4EOXLl0eHDh2wZMmSAnseIso/BrnIgogovVGjRqFmzZpwc3PDgwcPsGbNGoSGhmb4BRIqWFFRUfjqq6/g5+cHBwcHXLt2DXPmzMGjR48K/JQaIso/DHhEBOD5vRLTX/yQ3osnoue3lJQUfP7554iKioJGo0HlypWxatUqfPDBBwX2nIVVamrqS3/yLLOff8wPZmZmuHr1KgYNGoQHDx7A0tISDRo0wKJFi1ClSpUCeU4iyn88REtEAP7/0Gt2goODX/obzvTq0g69ZiciIiLTe/EREQEMeET0P48ePcrwywDp5fZKNcqb27dvK/d6y0pObpNDREUXAx4RERGRyhT4b9ESERER0evFiyxyKDU1Fbdv34aNjc1r/TkVIiIiyjsRwaNHj+Dq6vrS36tWEwa8HLp9+3aWv21KREREhduNGzde+utKasKAl0Npv+F548YN2NraGrg1RC9ISADSfiP09m3Aysqw7SEiKkTi4uLg5uamfI8XFQx4OZR2WNbW1pYBjwqXF+9NZ2vLgEdElImidnpV0TkYTURERFREMOARERERqQwDHhEREZHK8Bw8IiKVSU1NRVJSkqGbQfRamJiYFOjvZL+pGPCIiFQkKSkJERERSE1NNXRTiF6b4sWLQ6fTFbkLKbLDgEdEpBIigsjISBgZGcHNza1I3dSViiYRwePHjxEdHQ0AcHFxMXCLCg8GPCIilUhOTsbjx4/h6uoKS0tLQzeH6LWwsLAAAERHR8PJyYmHa/+H/94REalESkoKAMDU1NTALSF6vdL+oXn27JmBW1J4MOAREakMz0Oiooav+YwY8IiIiIhUhgGPiIjeGB4eHpg7d66hm5Fv8tKf3r17o0OHDsq0r68vRowYoUw/fvwY7777LmxtbaHRaPDw4cNMy0jdGPCIiMjgbty4gb59+8LV1RWmpqZwd3fH8OHDcf/+fUM3rdDbuHEjvvzyS2V6xYoV+PPPP3Hw4EFERkZCq9VmWkbqxoBHREQG9e+//6JOnTq4dOkSfvzxR/zzzz9YtGgRdu/eDW9vbzx48MBgbUtJSSn09xS0t7eHjY2NMn3lyhVUqlQJXl5eyr3hMivLrTdhLOj/MeAREZFBDR48GKampti5cyd8fHxQunRptGrVCrt27cKtW7fw6aef6tV/9OgRAgMDYW1tDVdXV8ybN09v/sSJE1G6dGmYmZnB1dUVw4YNU+YlJSVhzJgxKFmyJKysrFC/fn3s27dPmb98+XIUL14cW7ZsQeXKlWFmZoalS5fC3Nw8w2HNYcOGwcfHR5k+ePAgmjRpAgsLC7i5uWHYsGFISEhQ5kdHR6Ndu3awsLCAp6cn1qxZ89KxSUlJwahRo1C8eHE4ODhgzJgxEBG9Oi8eovX19cWsWbPwxx9/QKPRwNfXN9OyvI7FtWvXcrzcjh07UKlSJVhbWyMgIACRkZF67f7hhx9QpUoVmJmZwcXFBUOGDFHmxcbGon///nBycoKtrS2aNm2KkydPvnS86AVCORIbGysAJDY21tBNIdIXHy8CPH/Exxu6NWRAT548kXPnzsmTJ0+eF6SmPn9NGOKRmpqjNt+/f180Go1MmTIl0/n9+vUTOzs7Sf3f+tzd3cXGxkamTp0qFy9elG+//VaMjIxk586dIiKyYcMGsbW1lW3btsm1a9fkyJEjsmTJEmV9gYGB0rBhQ/njjz/kn3/+kZkzZ4qZmZlcunRJRESCg4PFxMREGjZsKAcOHJALFy5IfHy8ODs7y/fff6+sJzk5WZydnWXx4sUiInLq1CmxtraWOXPmyKVLl+TAgQNSs2ZN6d27t7JMq1atxMvLSw4ePCjHjh2Thg0bioWFhcyZMyfL8Zk+fbpotVr5+eef5dy5c9K3b1+xsbGRd955R6nj4+Mjw4cPV8azX79+4u3tLZGRkXL//v1My15lLHK6XPPmzeXo0aNy/PhxqVSpkgQGBiptXrBggZibm8vcuXPl4sWL8tdffynjkJqaKo0aNZJ27drJ0aNH5dKlSxIUFCQODg5K29PL8Np/QVH9/uaNjoko33mM3WroJuTa1WltDN2E/Pf4MWBtbZjnjo8HrKxeWu3y5csQEVSqVCnT+ZUqVUJMTAzu3r0LJycnAECjRo0wduxYAED58uVx4MABzJkzBy1atMD169eh0+nQvHlzmJiYoHTp0qhXrx6A54cuf/zxR9y8eROurq4AgNGjRyMkJATBwcGYMmUKgOf3UluwYAGqV6+utKNr165Yu3Yt+vbtCwDYvXs3YmJi8N577wEAZs6cicDAQGVPWrly5fDtt9/Cx8cHCxcuxPXr17F9+3YcPnwY9evXBwAsW7Ysy36nmTt3LsaNG4d3330XALBo0SLs2LEjy/r29vawtLSEqakpdDqdUp6+LK9jkZvlFi1ahDJlygAAhgwZgi+++EJpz+TJkxEUFIThw4crZXXr1gUA7N27F6dPn0Z0dDTMzMwAAF9//TV+/fVX/Pzzz+jfv3+2Y0bPMeAREVGhJf87HPniOWPe3t56dby9vZUrUd977z3MnTsXb731FgICAtC6dWu0a9cOxsbGOHHiBEQE5cuX11s+MTERDg4OyrSpqSmqVaumV6d79+7w9vbG7du34erqijVr1qB169aws7MDABw/fhz//POP3mFXEUFqaioiIiJw6dIlGBsbo06dOsr8ihUronjx4ln2PTY2FpGRkXr9TVuHpDtMm1t5HYucLmdpaamEO+D5T4il/ZxYdHQ0bt++jWbNmmXatuPHjyM+Pl5vfQDw5MkTXLlyJZc9LboY8IiI1MrS8vmeNEM9dw6ULVsWGo0G586d07v1R5oLFy7Azs4Ojo6O2a4nLQC6ubnh4sWLCA0Nxa5duzBo0CDMnDkTYWFhSE1NhZGREY4fP57h56ysX9jTaWFhkeEihHr16qFMmTJYt24dBg4ciE2bNiE4OFiZn5qaigEDBuid75emdOnSuHjxol47DS2vY5HT5UxMTPTmaTQaJZSm/bRYdm1zcXHRO68vTXaBmPQx4BERqZVGk6PDpIbk4OCAFi1aYMGCBRg5cqTel39UVBTWrFmDnj176oWMw4cP663j8OHDqFixojJtYWGB9u3bo3379hg8eDAqVqyI06dPo2bNmkhJSUF0dDQaN26c67YGBgZizZo1KFWqFIoVK4Y2bf7/sH6tWrVw9uxZlC1bNtNlK1WqhOTkZBw7dkw5ZHzx4sVs70en1Wrh4uKCw4cPo0mTJgCe/97w8ePHUatWrVy3/0V5HYtXHUMAsLGxgYeHB3bv3g0/P78M82vVqoWoqCgYGxvDw8MjT89BvIqWiIgMbP78+UhMTETLli3xxx9/4MaNGwgJCUGLFi1QsmRJfPXVV3r1Dxw4gBkzZuDSpUv47rvvsGHDBuVcruXLl2PZsmU4c+YM/v33X6xatQoWFhZwd3dH+fLl0b17d/Ts2RMbN25EREQEjh49iunTp2Pbtm0vbWf37t1x4sQJfPXVV+jcuTPMzc2VeZ988gkOHTqEwYMHIzw8HJcvX8bmzZsxdOhQAECFChUQEBCAfv364ciRIzh+/Dg++uijl+7NGj58OKZNm4ZNmzbhwoULGDRoUL7cpDivY/GqY5hm4sSJmDVrFr799ltcvnwZJ06cUK6Gbt68Oby9vdGhQwfs2LEDV69excGDB/HZZ5/h2LFjr9z3ooIBj4iIDKpcuXI4duwYypQpg65du6JMmTLo378//Pz8cOjQIdjb2+vVDwoKwvHjx1GzZk18+eWXmDVrFlq2bAng+SG8pUuXolGjRqhWrRp2796N33//XTmfKzg4GD179kRQUBAqVKiA9u3b48iRI3Bzc8tRO+vWrYtTp06he/fuevOqVauGsLAwXL58GY0bN0bNmjUxfvx4uLi4KHWCg4Ph5uYGHx8fdOrUSbkNSHaCgoLQs2dP9O7dG97e3rCxsUHHjh1zNK4vk9exeJUxTNOrVy/MnTsXCxYsQJUqVdC2bVtcvnwZwPPDudu2bUOTJk3Qp08flC9fHt26dcPVq1fh7Oz8Sn0uSjTyqmdqFhFxcXHQarWIjY2Fra2toZtD9P8SEv7/SskcXrlY0HgVrWE8ffoUERER8PT01Nu7RKR22b32i+r3N/fgEREREakMAx4RERGRyjDgEREREakMAx4RERGRyvA+eEREUNeFIbx2jooavuYz4h48IiKVSPtlgaSkJAO3hOj1evz4MYCMv6BRlHEPHhGRShgbG8PS0hJ3796FiYkJihXj//CkbiKCx48fIzo6GsWLF8/w82lFGQMeEZFKaDQauLi4ICIiAteuXTN0c4hem+LFi0On0xm6GYUKAx4RkYqYmpqiXLlyPExLRYaJiQn33GWCAY+ISGWKFSvGX7IgKuJ4ggYRERGRyjDgEREREakMAx4RERGRyjDgEREREakMAx4RERGRyjDgEREREakMAx4RERGRyjDgEREREakMAx4RERGRyjDgEREREakMAx4RERGRyjDgEREREakMAx4RERGRyjDgEREREakMAx4RERGRyjDgEREREakMAx4RERGRyjDgEREREakMAx4RERGRyjDgEREREakMAx4RERGRyhg04E2dOhV169aFjY0NnJyc0KFDB1y8eFGvTu/evaHRaPQeDRo00KuTmJiIoUOHwtHREVZWVmjfvj1u3rypVycmJgY9evSAVquFVqtFjx498PDhw4LuIhEREdFrZ9CAFxYWhsGDB+Pw4cMIDQ1FcnIy/P39kZCQoFcvICAAkZGRymPbtm1680eMGIFNmzZh3bp12L9/P+Lj49G2bVukpKQodQIDAxEeHo6QkBCEhIQgPDwcPXr0eC39JCIiInqdjA355CEhIXrTwcHBcHJywvHjx9GkSROl3MzMDDqdLtN1xMbGYtmyZVi1ahWaN28OAFi9ejXc3Nywa9cutGzZEufPn0dISAgOHz6M+vXrAwCWLl0Kb29vXLx4ERUqVCigHhIRERG9foXqHLzY2FgAgL29vV75vn374OTkhPLly6Nfv36Ijo5W5h0/fhzPnj2Dv7+/Uubq6govLy8cPHgQAHDo0CFotVol3AFAgwYNoNVqlTrpJSYmIi4uTu9BRERE9CYoNAFPRDBq1Ci8/fbb8PLyUspbtWqFNWvWYM+ePZg1axaOHj2Kpk2bIjExEQAQFRUFU1NT2NnZ6a3P2dkZUVFRSh0nJ6cMz+nk5KTUSW/q1KnK+XparRZubm751VUiIiKiAmXQQ7QvGjJkCE6dOoX9+/frlXft2lX528vLC3Xq1IG7uzu2bt2KTp06Zbk+EYFGo1GmX/w7qzovGjduHEaNGqVMx8XFMeQRERHRG6FQ7MEbOnQoNm/ejL1796JUqVLZ1nVxcYG7uzsuX74MANDpdEhKSkJMTIxevejoaDg7Oyt17ty5k2Fdd+/eVeqkZ2ZmBltbW70HERER0ZvAoAFPRDBkyBBs3LgRe/bsgaen50uXuX//Pm7cuAEXFxcAQO3atWFiYoLQ0FClTmRkJM6cOYOGDRsCALy9vREbG4u//vpLqXPkyBHExsYqdYiIiIjUwqCHaAcPHoy1a9fit99+g42NjXI+nFarhYWFBeLj4zFx4kS8++67cHFxwdWrV/Hf//4Xjo6O6Nixo1K3b9++CAoKgoODA+zt7TF69GhUrVpVuaq2UqVKCAgIQL9+/bB48WIAQP/+/dG2bVteQUtERESqY9CAt3DhQgCAr6+vXnlwcDB69+4NIyMjnD59GitXrsTDhw/h4uICPz8/rF+/HjY2Nkr9OXPmwNjYGF26dMGTJ0/QrFkzLF++HEZGRkqdNWvWYNiwYcrVtu3bt8f8+fMLvpNEREREr5lGRMTQjXgTxMXFQavVIjY2lufjUeGSkABYWz//Oz4esLIybHsAeIzdaugmFAlXp7UxdBOICr2i+v1dKC6yICIiIqL8w4BHREREpDIMeEREREQqw4BHREREpDIMeEREREQqw4BHREREpDIMeEREREQqw4BHREREpDIMeEREREQqw4BHREREpDIMeEREREQqw4BHREREpDIMeEREREQqw4BHREREpDIMeEREREQqw4BHREREpDIMeEREREQqw4BHREREpDIMeEREREQqw4BHREREpDIMeEREREQqw4BHREREpDIMeEREREQqw4BHREREpDIMeEREREQqw4BHREREpDIMeEREREQqw4BHREREpDIMeEREREQqw4BHREREpDIMeEREREQqw4BHREREpDIMeEREREQqw4BHREREpDIMeEREREQqw4BHREREpDIMeEREREQqw4BHREREpDIMeEREREQqw4BHREREpDIMeEREREQqw4BHREREpDIMeEREREQqw4BHREREpDIMeEREREQqw4BHREREpDIMeEREREQqw4BHREREpDIMeEREREQqw4BHREREpDIMeEREREQqY9CAN3XqVNStWxc2NjZwcnJChw4dcPHiRb06IoKJEyfC1dUVFhYW8PX1xdmzZ/XqJCYmYujQoXB0dISVlRXat2+Pmzdv6tWJiYlBjx49oNVqodVq0aNHDzx8+LCgu0hERET02hk04IWFhWHw4ME4fPgwQkNDkZycDH9/fyQkJCh1ZsyYgdmzZ2P+/Pk4evQodDodWrRogUePHil1RowYgU2bNmHdunXYv38/4uPj0bZtW6SkpCh1AgMDER4ejpCQEISEhCA8PBw9evR4rf0lIiIieh00IiKGbkSau3fvwsnJCWFhYWjSpAlEBK6urhgxYgQ++eQTAM/31jk7O2P69OkYMGAAYmNjUaJECaxatQpdu3YFANy+fRtubm7Ytm0bWrZsifPnz6Ny5co4fPgw6tevDwA4fPgwvL29ceHCBVSoUOGlbYuLi4NWq0VsbCxsbW0LbhCIcishAbC2fv53fDxgZWXY9gDwGLvV0E0oEq5Oa2PoJhAVekX1+7tQnYMXGxsLALC3twcAREREICoqCv7+/kodMzMz+Pj44ODBgwCA48eP49mzZ3p1XF1d4eXlpdQ5dOgQtFqtEu4AoEGDBtBqtUqd9BITExEXF6f3ICIiInoTFJqAJyIYNWoU3n77bXh5eQEAoqKiAADOzs56dZ2dnZV5UVFRMDU1hZ2dXbZ1nJycMjynk5OTUie9qVOnKufrabVauLm5vVoHiYiIiF6TQhPwhgwZglOnTuHHH3/MME+j0ehNi0iGsvTS18msfnbrGTduHGJjY5XHjRs3ctINIiIiIoMrFAFv6NCh2Lx5M/bu3YtSpUop5TqdDgAy7GWLjo5W9urpdDokJSUhJiYm2zp37tzJ8Lx3797NsHcwjZmZGWxtbfUeRERERG8CgwY8EcGQIUOwceNG7NmzB56ennrzPT09odPpEBoaqpQlJSUhLCwMDRs2BADUrl0bJiYmenUiIyNx5swZpY63tzdiY2Px119/KXWOHDmC2NhYpQ4RERGRWhgb8skHDx6MtWvX4rfffoONjY2yp06r1cLCwgIajQYjRozAlClTUK5cOZQrVw5TpkyBpaUlAgMDlbp9+/ZFUFAQHBwcYG9vj9GjR6Nq1apo3rw5AKBSpUoICAhAv379sHjxYgBA//790bZt2xxdQUtERET0JjFowFu4cCEAwNfXV688ODgYvXv3BgCMGTMGT548waBBgxATE4P69etj586dsLGxUerPmTMHxsbG6NKlC548eYJmzZph+fLlMDIyUuqsWbMGw4YNU662bd++PebPn1+wHSQiIiIygEJ1H7zCrKjeR4feALwPXpHF++ARvVxR/f4uFBdZEBEREVH+YcAjIiIiUhkGPCIiIiKVYcAjIiIiUhkGPCIiIiKVYcAjIiIiUhkGPCIiIiKVYcAjIiIiUhkGPCIiIiKVYcAjIiIiUhkGPCIiIiKVYcAjIiIiUhkGPCIiIiKVYcAjIiIiUhkGPCIiIiKVYcAjIiIiUhkGPCIiIiKVYcAjIiIiUhljQzeAiLLnMXZrtvMtkp7i/P/+rjQ+BE9MzQu+UUREVKhxDx4RERGRyjDgEREREakMAx4RERGRyjDgEREREalMngJeREREfreDiIiIiPJJngJe2bJl4efnh9WrV+Pp06f53SYiIiIiegV5CngnT55EzZo1ERQUBJ1OhwEDBuCvv/7K77YRERERUR7kKeB5eXlh9uzZuHXrFoKDgxEVFYW3334bVapUwezZs3H37t38bicRERER5dArXWRhbGyMjh074qeffsL06dNx5coVjB49GqVKlULPnj0RGRmZX+0kIiIiohx6pYB37NgxDBo0CC4uLpg9ezZGjx6NK1euYM+ePbh16xbeeeed/GonEREREeVQnn6qbPbs2QgODsbFixfRunVrrFy5Eq1bt0axYs/zoqenJxYvXoyKFSvma2OJiIiI6OXyFPAWLlyIPn364MMPP4ROp8u0TunSpbFs2bJXahwRERER5V6eAt7ly5dfWsfU1BS9evXKy+qJiIiI6BXk6Ry84OBgbNiwIUP5hg0bsGLFilduFBERERHlXZ4C3rRp0+Do6Jih3MnJCVOmTHnlRhERERFR3uUp4F27dg2enp4Zyt3d3XH9+vVXbhQRERER5V2eAp6TkxNOnTqVofzkyZNwcHB45UYRERERUd7lKeB169YNw4YNw969e5GSkoKUlBTs2bMHw4cPR7du3fK7jURERESUC3m6inby5Mm4du0amjVrBmPj56tITU1Fz549eQ4eERERkYHlKeCZmppi/fr1+PLLL3Hy5ElYWFigatWqcHd3z+/2EREREVEu5SngpSlfvjzKly+fX20hIiIionyQp4CXkpKC5cuXY/fu3YiOjkZqaqre/D179uRL44iIiIgo9/IU8IYPH47ly5ejTZs28PLygkajye92EREREVEe5SngrVu3Dj/99BNat26d3+0hIiIioleUp9ukmJqaomzZsvndFiIiIiLKB3kKeEFBQfjmm28gIvndHiIiIiJ6RXk6RLt//37s3bsX27dvR5UqVWBiYqI3f+PGjfnSOCIiIiLKvTwFvOLFi6Njx4753RYiIiIiygd5CnjBwcH53Q4iIiIiyid5OgcPAJKTk7Fr1y4sXrwYjx49AgDcvn0b8fHx+dY4IiIiIsq9PO3Bu3btGgICAnD9+nUkJiaiRYsWsLGxwYwZM/D06VMsWrQov9tJRERERDmUpz14w4cPR506dRATEwMLCwulvGPHjti9e3e+NY6IiIiIci9PAW///v347LPPYGpqqlfu7u6OW7du5Xg9f/zxB9q1awdXV1doNBr8+uuvevN79+4NjUaj92jQoIFencTERAwdOhSOjo6wsrJC+/btcfPmTb06MTEx6NGjB7RaLbRaLXr06IGHDx/mqs9EREREb4o8BbzU1FSkpKRkKL958yZsbGxyvJ6EhARUr14d8+fPz7JOQEAAIiMjlce2bdv05o8YMQKbNm3CunXrsH//fsTHx6Nt27Z67QsMDER4eDhCQkIQEhKC8PBw9OjRI8ftJCIiInqT5OkcvBYtWmDu3LlYsmQJAECj0SA+Ph4TJkzI1c+XtWrVCq1atcq2jpmZGXQ6XabzYmNjsWzZMqxatQrNmzcHAKxevRpubm7YtWsXWrZsifPnzyMkJASHDx9G/fr1AQBLly6Ft7c3Ll68iAoVKuS4vURERERvgjztwZszZw7CwsJQuXJlPH36FIGBgfDw8MCtW7cwffr0fG3gvn374OTkhPLly6Nfv36Ijo5W5h0/fhzPnj2Dv7+/Uubq6govLy8cPHgQAHDo0CFotVol3AFAgwYNoNVqlTqZSUxMRFxcnN6DiIiI6E2Qpz14rq6uCA8Px48//ogTJ04gNTUVffv2Rffu3fUuunhVrVq1wnvvvQd3d3dERERg/PjxaNq0KY4fPw4zMzNERUXB1NQUdnZ2ess5OzsjKioKABAVFQUnJ6cM63ZyclLqZGbq1KmYNGlSvvWFiIiI6HXJU8ADAAsLC/Tp0wd9+vTJz/bo6dq1q/K3l5cX6tSpA3d3d2zduhWdOnXKcjkRgUajUaZf/DurOumNGzcOo0aNUqbj4uLg5uaW2y4QERERvXZ5CngrV67Mdn7Pnj3z1JiXcXFxgbu7Oy5fvgwA0Ol0SEpKQkxMjN5evOjoaDRs2FCpc+fOnQzrunv3LpydnbN8LjMzM5iZmeVzD4iIiIgKXp4C3vDhw/Wmnz17hsePH8PU1BSWlpYFFvDu37+PGzduwMXFBQBQu3ZtmJiYIDQ0FF26dAEAREZG4syZM5gxYwYAwNvbG7Gxsfjrr79Qr149AMCRI0cQGxurhEAiIiIiNclTwIuJiclQdvnyZQwcOBD/+c9/crye+Ph4/PPPP8p0REQEwsPDYW9vD3t7e0ycOBHvvvsuXFxccPXqVfz3v/+Fo6MjOnbsCADQarXo27cvgoKC4ODgAHt7e4wePRpVq1ZVrqqtVKkSAgIC0K9fPyxevBgA0L9/f7Rt25ZX0BIREZEq5fkcvPTKlSuHadOm4YMPPsCFCxdytMyxY8fg5+enTKed89arVy8sXLgQp0+fxsqVK/Hw4UO4uLjAz88P69ev17vX3pw5c2BsbIwuXbrgyZMnaNasGZYvXw4jIyOlzpo1azBs2DDlatv27dtne+89IiIiojdZvgU8ADAyMsLt27dzXN/X1xcikuX8HTt2vHQd5ubmmDdvHubNm5dlHXt7e6xevTrH7SIiIiJ6k+Up4G3evFlvWkQQGRmJ+fPno1GjRvnSMCIiIiLKmzwFvA4dOuhNazQalChRAk2bNsWsWbPyo11ERPQSHmO3GroJuXZ1WhtDN4GoSMhTwEtNTc3vdhARERFRPsnTT5URERERUeGVpz14L/7Cw8vMnj07L09BRERERHmUp4D3999/48SJE0hOTlbuJXfp0iUYGRmhVq1aSr3sfgqMiIiIiApGngJeu3btYGNjgxUrVig/ERYTE4MPP/wQjRs3RlBQUL42koiIiIhyLk/n4M2aNQtTp07V+/1XOzs7TJ48mVfREhERERlYngJeXFwc7ty5k6E8Ojoajx49euVGEREREVHe5SngdezYER9++CF+/vln3Lx5Ezdv3sTPP/+Mvn37olOnTvndRiIiIiLKhTydg7do0SKMHj0aH3zwAZ49e/Z8RcbG6Nu3L2bOnJmvDSQiIiKi3MlTwLO0tMSCBQswc+ZMXLlyBSKCsmXLwsrKKr/bR0RERES59Eo3Oo6MjERkZCTKly8PKysriEh+tYuIiIiI8ihPAe/+/fto1qwZypcvj9atWyMyMhIA8NFHH/EWKUREREQGlqeAN3LkSJiYmOD69euwtLRUyrt27YqQkJB8axwRERER5V6ezsHbuXMnduzYgVKlSumVlytXDteuXcuXhhERERFR3uRpD15CQoLenrs09+7dg5mZ2Ss3ioiIiIjyLk8Br0mTJli5cqUyrdFokJqaipkzZ8LPzy/fGkdEREREuZenQ7QzZ86Er68vjh07hqSkJIwZMwZnz57FgwcPcODAgfxuIxERERHlQp724FWuXBmnTp1CvXr10KJFCyQkJKBTp074+++/UaZMmfxuIxERERHlQq734D179gz+/v5YvHgxJk2aVBBtIiIiIqJXkOs9eCYmJjhz5gw0Gk1BtIeIiIiIXlGeDtH27NkTy5Yty++2EBEREVE+yNNFFklJSfj+++8RGhqKOnXqZPgN2tmzZ+dL44iIiIgo93IV8P799194eHjgzJkzqFWrFgDg0qVLenV46JaIiIjIsHIV8MqVK4fIyEjs3bsXwPOfJvv222/h7OxcII0jIiIiotzL1Tl4IqI3vX37diQkJORrg4iIiIjo1eTpIos06QMfERERERlergKeRqPJcI4dz7kjIiIiKlxydQ6eiKB3794wMzMDADx9+hQff/xxhqtoN27cmH8tJCIiIqJcyVXA69Wrl970Bx98kK+NISIiIqJXl6uAFxwcXFDtICIiIqJ88koXWRARERFR4cOAR0RERKQyDHhEREREKsOAR0RERKQyDHhEREREKsOAR0RERKQyDHhEREREKsOAR0RERKQyDHhEREREKsOAR0RERKQyDHhEREREKsOAR0RERKQyDHhEREREKsOAR0RERKQyDHhEREREKsOAR0RERKQyDHhEREREKsOAR0RERKQyDHhEREREKmPQgPfHH3+gXbt2cHV1hUajwa+//qo3X0QwceJEuLq6wsLCAr6+vjh79qxencTERAwdOhSOjo6wsrJC+/btcfPmTb06MTEx6NGjB7RaLbRaLXr06IGHDx8WcO+IiIiIDMOgAS8hIQHVq1fH/PnzM50/Y8YMzJ49G/Pnz8fRo0eh0+nQokULPHr0SKkzYsQIbNq0CevWrcP+/fsRHx+Ptm3bIiUlRakTGBiI8PBwhISEICQkBOHh4ejRo0eB94+IiIjIEIwN+eStWrVCq1atMp0nIpg7dy4+/fRTdOrUCQCwYsUKODs7Y+3atRgwYABiY2OxbNkyrFq1Cs2bNwcArF69Gm5ubti1axdatmyJ8+fPIyQkBIcPH0b9+vUBAEuXLoW3tzcuXryIChUqvJ7OEhEREb0mhfYcvIiICERFRcHf318pMzMzg4+PDw4ePAgAOH78OJ49e6ZXx9XVFV5eXkqdQ4cOQavVKuEOABo0aACtVqvUyUxiYiLi4uL0HkRERERvgkIb8KKiogAAzs7OeuXOzs7KvKioKJiamsLOzi7bOk5OThnW7+TkpNTJzNSpU5Vz9rRaLdzc3F6pP0RERESvS6ENeGk0Go3etIhkKEsvfZ3M6r9sPePGjUNsbKzyuHHjRi5bTkRERGQYhTbg6XQ6AMiwly06OlrZq6fT6ZCUlISYmJhs69y5cyfD+u/evZth7+CLzMzMYGtrq/cgIiIiehMU2oDn6ekJnU6H0NBQpSwpKQlhYWFo2LAhAKB27dowMTHRqxMZGYkzZ84odby9vREbG4u//vpLqXPkyBHExsYqdYiIiIjUxKBX0cbHx+Off/5RpiMiIhAeHg57e3uULl0aI0aMwJQpU1CuXDmUK1cOU6ZMgaWlJQIDAwEAWq0Wffv2RVBQEBwcHGBvb4/Ro0ejatWqylW1lSpVQkBAAPr164fFixcDAPr374+2bdvyCloiIiJSJYMGvGPHjsHPz0+ZHjVqFACgV69eWL58OcaMGYMnT55g0KBBiImJQf369bFz507Y2Ngoy8yZMwfGxsbo0qULnjx5gmbNmmH58uUwMjJS6qxZswbDhg1TrrZt3759lvfeIyIiInrTaUREDN2IN0FcXBy0Wi1iY2N5Ph69Vh5jt2Y73yLpKc7P6QwAqDTyZzwxNX8dzSLKk6vT2hi6CVTEFNXv70J7Dh4RERER5Q0DHhEREZHKMOARERERqQwDHhEREZHKMOARERERqQwDHhEREZHKMOARERERqQwDHhEREZHKMOARERERqQwDHhEREZHKMOARERERqQwDHhEREZHKMOARERERqQwDHhEREZHKMOARERERqQwDHhEREZHKMOARERERqQwDHhEREZHKMOARERERqQwDHhEREZHKMOARERERqQwDHhEREZHKMOARERERqQwDHhEREZHKMOARERERqQwDHhEREZHKMOARERERqQwDHhEREZHKMOARERERqQwDHhEREZHKMOARERERqQwDHhEREZHKMOARERERqQwDHhEREZHKMOARERERqQwDHhEREZHKMOARERERqQwDHhEREZHKMOARERERqQwDHhEREZHKMOARERERqQwDHhEREZHKMOARERERqQwDHhEREZHKMOARERERqQwDHhEREZHKMOARERERqQwDHhEREZHKGBu6AUSvk8fYrYZuAhERUYHjHjwiIiIilWHAIyIiIlKZQh3wJk6cCI1Go/fQ6XTKfBHBxIkT4erqCgsLC/j6+uLs2bN660hMTMTQoUPh6OgIKysrtG/fHjdv3nzdXSEiIiJ6bQp1wAOAKlWqIDIyUnmcPn1amTdjxgzMnj0b8+fPx9GjR6HT6dCiRQs8evRIqTNixAhs2rQJ69atw/79+xEfH4+2bdsiJSXFEN0hIiIiKnCF/iILY2Njvb12aUQEc+fOxaeffopOnToBAFasWAFnZ2esXbsWAwYMQGxsLJYtW4ZVq1ahefPmAIDVq1fDzc0Nu3btQsuWLV9rX4iIiIheh0K/B+/y5ctwdXWFp6cnunXrhn///RcAEBERgaioKPj7+yt1zczM4OPjg4MHDwIAjh8/jmfPnunVcXV1hZeXl1InK4mJiYiLi9N7EBEREb0JCnXAq1+/PlauXIkdO3Zg6dKliIqKQsOGDXH//n1ERUUBAJydnfWWcXZ2VuZFRUXB1NQUdnZ2WdbJytSpU6HVapWHm5tbPvaMiIiIqOAU6oDXqlUrvPvuu6hatSqaN2+OrVuf38NsxYoVSh2NRqO3jIhkKEsvJ3XGjRuH2NhY5XHjxo089oKIiIjo9SrUAS89KysrVK1aFZcvX1bOy0u/Jy46OlrZq6fT6ZCUlISYmJgs62TFzMwMtra2eg8iIiKiN8EbFfASExNx/vx5uLi4wNPTEzqdDqGhocr8pKQkhIWFoWHDhgCA2rVrw8TERK9OZGQkzpw5o9QhIiIiUptCfRXt6NGj0a5dO5QuXRrR0dGYPHky4uLi0KtXL2g0GowYMQJTpkxBuXLlUK5cOUyZMgWWlpYIDAwEAGi1WvTt2xdBQUFwcHCAvb09Ro8erRzyJSIiIlKjQh3wbt68iffffx/37t1DiRIl0KBBAxw+fBju7u4AgDFjxuDJkycYNGgQYmJiUL9+fezcuRM2NjbKOubMmQNjY2N06dIFT548QbNmzbB8+XIYGRkZqltEREREBUojImLoRrwJ4uLioNVqERsby/Px3mAeY7caugn5ziLpKc7P6QwAqDTyZzwxNTdwi4iydnVaG0M3gYqYovr9/Uadg0dEREREL8eAR0RERKQyDHhEREREKlOoL7IgIiJ1eRPPg+V5g/Qm4h48IiIiIpVhwCMiIiJSGQY8IiIiIpVhwCMiIiJSGQY8IiIiIpVhwCMiIiJSGQY8IiIiIpVhwCMiIiJSGQY8IiIiIpVhwCMiIiJSGQY8IiIiIpVhwCMiIiJSGQY8IiIiIpVhwCMiIiJSGQY8IiIiIpVhwCMiIiJSGQY8IiIiIpVhwCMiIiJSGQY8IiIiIpVhwCMiIiJSGQY8IiIiIpVhwCMiIiJSGQY8IiIiIpVhwCMiIiJSGQY8IiIiIpVhwCMiIiJSGQY8IiIiIpVhwCMiIiJSGQY8IiIiIpVhwCMiIiJSGQY8IiIiIpVhwCMiIiJSGQY8IiIiIpVhwCMiIiJSGQY8IiIiIpVhwCMiIiJSGQY8IiIiIpVhwCMiIiJSGWNDN4DeTB5jtxq6CURERJQF7sEjIiIiUhkGPCIiIiKV4SFaIiKibLyJp6RcndbG0E0gA+MePCIiIiKVYcAjIiIiUhkGPCIiIiKVYcAjIiIiUpkiFfAWLFgAT09PmJubo3bt2vjzzz8N3SQiIiKifFdkAt769esxYsQIfPrpp/j777/RuHFjtGrVCtevXzd004iIiIjyVZEJeLNnz0bfvn3x0UcfoVKlSpg7dy7c3NywcOFCQzeNiIiIKF8VifvgJSUl4fjx4xg7dqxeub+/Pw4ePGigVv2/N/EeS0RERFR4FYmAd+/ePaSkpMDZ2Vmv3NnZGVFRUZkuk5iYiMTERGU6NjYWABAXF5fv7UtNfJzv66SiIyXpKdJelSmJj5EqqQZtDxEZXumRGwzdhFw7M6llgaw37XtbRApk/YVVkQh4aTQajd60iGQoSzN16lRMmjQpQ7mbm1uBtI3oVWjT/ljQ05DNICLKM+3cgl3/o0ePoNVqX15RJYpEwHN0dISRkVGGvXXR0dEZ9uqlGTduHEaNGqVMp6am4sGDB3BwcMgyFL5J4uLi4Obmhhs3bsDW1tbQzSlSOPaGxfE3HI69YRXV8RcRPHr0CK6uroZuymtVJAKeqakpateujdDQUHTs2FEpDw0NxTvvvJPpMmZmZjAzM9MrK168eEE20yBsbW2L1Bu9MOHYGxbH33A49oZVFMe/KO25S1MkAh4AjBo1Cj169ECdOnXg7e2NJUuW4Pr16/j4448N3TQiIiKifFVkAl7Xrl1x//59fPHFF4iMjISXlxe2bdsGd3d3QzeNiIiIKF8VmYAHAIMGDcKgQYMM3YxCwczMDBMmTMhwGJoKHsfesDj+hsOxNyyOf9GikaJ23TARERGRyhWZX7IgIiIiKioY8IiIiIhUhgGPiIiISGUY8IiIiIhUhgFPJWJiYtCjRw9otVpotVr06NEDDx8+zHYZEcHEiRPh6uoKCwsL+Pr64uzZs3p1EhMTMXToUDg6OsLKygrt27fHzZs3M11fYmIiatSoAY1Gg/Dw8HzqWeFnqLG/evUq+vbtC09PT1hYWKBMmTKYMGECkpKSCqKbhcaCBQvg6ekJc3Nz1K5dG3/++We29cPCwlC7dm2Ym5vjrbfewqJFizLU+eWXX1C5cmWYmZmhcuXK2LRp0ys/rxoZYuynTp2KunXrwsbGBk5OTujQoQMuXryYr/16UxjqtZ9m6tSp0Gg0GDFixKt2hV4HIVUICAgQLy8vOXjwoBw8eFC8vLykbdu22S4zbdo0sbGxkV9++UVOnz4tXbt2FRcXF4mLi1PqfPzxx1KyZEkJDQ2VEydOiJ+fn1SvXl2Sk5MzrG/YsGHSqlUrASB///13fnex0DLU2G/fvl169+4tO3bskCtXrshvv/0mTk5OEhQUVKD9NaR169aJiYmJLF26VM6dOyfDhw8XKysruXbtWqb1//33X7G0tJThw4fLuXPnZOnSpWJiYiI///yzUufgwYNiZGQkU6ZMkfPnz8uUKVPE2NhYDh8+nOfnVSNDjX3Lli0lODhYzpw5I+Hh4dKmTRspXbq0xMfHF3ifCxNDjX+av/76Szw8PKRatWoyfPjwguom5SMGPBU4d+6cANB7Ux46dEgAyIULFzJdJjU1VXQ6nUybNk0pe/r0qWi1Wlm0aJGIiDx8+FBMTExk3bp1Sp1bt25JsWLFJCQkRG9927Ztk4oVK8rZs2eLVMArDGP/ohkzZoinp+erdqvQqlevnnz88cd6ZRUrVpSxY8dmWn/MmDFSsWJFvbIBAwZIgwYNlOkuXbpIQECAXp2WLVtKt27d8vy8amSosU8vOjpaAEhYWFhuu/BGM+T4P3r0SMqVKyehoaHi4+PDgPeG4CFaFTh06BC0Wi3q16+vlDVo0ABarRYHDx7MdJmIiAhERUXB399fKTMzM4OPj4+yzPHjx/Hs2TO9Oq6urvDy8tJb7507d9CvXz+sWrUKlpaW+d29Qs3QY59ebGws7O3tX7VbhVJSUhKOHz+uNyYA4O/vn+WYHDp0KEP9li1b4tixY3j27Fm2ddLWmZfnVRtDjX1mYmNjAUC1r/PMGHr8Bw8ejDZt2qB58+av2hV6jRjwVCAqKgpOTk4Zyp2cnBAVFZXlMgDg7OysV+7s7KzMi4qKgqmpKezs7LKsIyLo3bs3Pv74Y9SpU+eV+/KmMeTYp3flyhXMmzdPtb+vfO/ePaSkpGQ7bulFRUVlWj85ORn37t3Ltk7aOvPyvGpjqLFPT0QwatQovP322/Dy8sprd944hhz/devW4cSJE5g6dWp+dIVeIwa8QmzixInQaDTZPo4dOwYA0Gg0GZYXkUzLX5R+fk6WebHOvHnzEBcXh3HjxuWma4XemzD2L7p9+zYCAgLw3nvv4aOPPnpZ995ouR23zOqnL8/JOvOyvdTGUGOfZsiQITh16hR+/PHHXLVbLV73+N+4cQPDhw/H6tWrYW5u/kptp9evSP0W7ZtmyJAh6NatW7Z1PDw8cOrUKdy5cyfDvLt372b47yyNTqcD8Pw/OBcXF6U8OjpaWUan0yEpKQkxMTF6e5Kio6PRsGFDAMCePXtw+PDhDL9tWKdOHXTv3h0rVqzIQU8Lnzdh7NPcvn0bfn5+8Pb2xpIlS3LWwTeQo6MjjIyMMuyxeHHc0tPpdJnWNzY2hoODQ7Z10taZl+dVG0ON/YuGDh2KzZs3448//kCpUqVepTtvHEON//HjxxEdHY3atWsr81NSUvDHH39g/vz5SExMhJGR0Sv3jwoG9+AVYo6OjqhYsWK2D3Nzc3h7eyM2NhZ//fWXsuyRI0cQGxubIQyk8fT0hE6nQ2hoqFKWlJSEsLAwZZnatWvDxMREr05kZCTOnDmj1Pn2229x8uRJhIeHIzw8HNu2bQMArF+/Hl999VW+j8nr8iaMPQDcunULvr6+qFWrFoKDg1GsmHrf0qampqhdu7bemABAaGholmPt7e2dof7OnTtRp04dmJiYZFsnbZ15eV61MdTYA8/3KA0ZMgQbN27Enj174OnpmR9deqMYavybNWuG06dPK5/v4eHhyj/v4eHhDHeF3Wu+qIMKSEBAgFSrVk0OHTokhw4dkqpVq2a4VUeFChVk48aNyvS0adNEq9XKxo0b5fTp0/L+++9nequOUqVKya5du+TEiRPStGnTLG+TIiISERFRpK6iFTHc2N+6dUvKli0rTZs2lZs3b0pkZKTyUKu0W0UsW7ZMzp07JyNGjBArKyu5evWqiIiMHTtWevToodRPu1XEyJEj5dy5c7Js2bIMt4o4cOCAGBkZybRp0+T8+fMybdq0LG+TktXzFgWGGvuBAweKVquVffv26b3GHz9+/Po6XwgYavzT41W0bw4GPJW4f/++dO/eXWxsbMTGxka6d+8uMTExenUASHBwsDKdmpoqEyZMEJ1OJ2ZmZtKkSRM5ffq03jJPnjyRIUOGiL29vVhYWEjbtm3l+vXrWbajKAY8Q419cHCwAMj0oWbfffeduLu7i6mpqdSqVUvvdhm9evUSHx8fvfr79u2TmjVriqmpqXh4eMjChQszrHPDhg1SoUIFMTExkYoVK8ovv/ySq+ctKgwx9lm9xl98PxUVhnrtv4gB782hEfnfWZdEREREpArqPWGHiIiIqIhiwCMiIiJSGQY8IiIiIpVhwCMiIiJSGQY8IiIiIpVhwCMiIiJSGQY8IiIiIpVhwCOiIs3DwwNz585VpjUaDX799Vdl+sKFC2jQoAHMzc1Ro0aNLMuIiAoTY0M3gIioMImMjISdnZ0yPWHCBFhZWeHixYuwtrbOsoyIqDBhwCMieoFOp9ObvnLlCtq0aQN3d/dsy4iIChMeoiWiN4qvry+GDBmCIUOGoHjx4nBwcMBnn32GnPzqYnR0NNq1awcLCwt4enpizZo1Geq8eIhWo9Hg+PHj+OKLL6DRaDBx4sRMy5KSkjBkyBC4uLjA3NwcHh4emDp1an53nYgox7gHj4jeOCtWrEDfvn1x5MgRHDt2DP3794e7uzv69euX7XK9e/fGjRs3sGfPHpiammLYsGGIjo7Osn5kZCSaN2+OgIAAjB49GtbW1vj4448zlH377bfYvHkzfvrpJ5QuXRo3btzAjRs38rvbREQ5xoBHRG8cNzc3zJkzBxqNBhUqVMDp06cxZ86cbAPepUuXsH37dhw+fBj169cHACxbtgyVKlXKchmdTgdjY2NYW1srh26tra0zlF2/fh3lypXD22+/DY1Gw0O3RGRwPERLRG+cBg0aQKPRKNPe3t64fPkyUlJSslzm/PnzMDY2Rp06dZSyihUronjx4q/cnt69eyM8PBwVKlTAsGHDsHPnzldeJxHRq2DAI6IiIe0cvReDYX6pVasWIiIi8OWXX+LJkyfo0qULOnfunO/PQ0SUUwx4RPTGOXz4cIbpcuXKwcjIKMtlKlWqhOTkZBw7dkwpu3jxIh4+fJgvbbK1tUXXrl2xdOlSrF+/Hr/88gsePHiQL+smIsotnoNHRG+cGzduYNSoURgwYABOnDiBefPmYdasWdkuU6FCBQQEBKBfv35YsmQJjI2NMWLECFhYWLxye+bMmQMXFxfUqFEDxYoVw4YNG6DT6fLl8C8RUV4w4BHRG6dnz5548uQJ6tWrByMjIwwdOhT9+/d/6XLBwcH46KOP4OPjA2dnZ0yePBnjx49/5fZYW1tj+vTpuHz5MoyMjFC3bl1s27YNxYrxIAkRGYZGcnLzKCKiQsLX1xc1atTQ+3kxIiLSx38viYiIiFSGAY+IVOHPP/+EtbV1lg8ioqKEh2iJSBWePHmCW7duZTm/bNmyr7E1RESGxYBHREREpDI8REtERESkMgx4RERERCrDgEdERESkMgx4RERERCrDgEdERESkMgx4RERERCrDgEdERESkMgx4RERERCrzfwnSKPIPFCaZAAAAAElFTkSuQmCC\n",
      "text/plain": [
       "<Figure size 640x480 with 1 Axes>"
      ]
     },
     "metadata": {},
     "output_type": "display_data"
    }
   ],
   "source": [
    "# plot line for observed statistic\n",
    "plt.hist(p_diffs)\n",
    "plt.axvline(x=obs_diff, color='r', label=\"Observed difference\")\n",
    "plt.xlabel('p_diffs')\n",
    "plt.ylabel('Frequency')\n",
    "plt.title('Simulated Difference of new_page & old_page converted under the Null');\n",
    "plt.legend()\n",
    "plt.show()"
   ]
  },
  {
   "cell_type": "code",
   "execution_count": 31,
   "metadata": {
    "id": "QmM89VfIYaUC",
    "outputId": "f7d5e6d3-2a5b-4f30-e792-66b2fd017f90"
   },
   "outputs": [
    {
     "data": {
      "text/plain": [
       "0.9047"
      ]
     },
     "execution_count": 31,
     "metadata": {},
     "output_type": "execute_result"
    }
   ],
   "source": [
    "#calculate the proportion of p_diffs greater than the observe difference\n",
    "(p_diffs > obs_diff).mean()"
   ]
  },
  {
   "cell_type": "markdown",
   "metadata": {
    "id": "ee1gc_V4YaUD"
   },
   "source": [
    "90.47% is the proportion of the p_diffs that are greater than the actual difference observed in ab_data.csv."
   ]
  },
  {
   "cell_type": "markdown",
   "metadata": {
    "id": "41z1xbTkYaUD"
   },
   "source": [
    "k. What is this value called in scientific studies?  What does this value mean in terms of whether or not there is a difference between the new and old pages?"
   ]
  },
  {
   "cell_type": "markdown",
   "metadata": {
    "id": "oVvXchclYaUD"
   },
   "source": [
    "90.47% is the proportion of the p_diffs that are greater than the actual difference observed in ab_data.csv. In scientific studies this value is also called **p-value**. This value means that **we cannot reject the null hypothesis and that we do not have sufficient evidence that the new_page has a higher conversion rate than the old_page.** "
   ]
  },
  {
   "cell_type": "markdown",
   "metadata": {
    "id": "BLBjOPvlYaUD"
   },
   "source": [
    "l. We could also use a built-in to achieve similar results.  Though using the built-in might be easier to code, the above portions are a walkthrough of the ideas that are critical to correctly thinking about statistical significance. Fill in the below to calculate the number of conversions for each page, as well as the number of individuals who received each page. Let `n_old` and `n_new` refer the the number of rows associated with the old page and new pages, respectively."
   ]
  },
  {
   "cell_type": "code",
   "execution_count": 32,
   "metadata": {
    "id": "mYvZbVkhYaUD",
    "outputId": "63cc35b7-b27a-4cbe-98bc-dba9b4c80c0b"
   },
   "outputs": [],
   "source": [
    "import statsmodels.api as sm\n",
    "\n",
    "n_new = len(df2.query('landing_page == \"new_page\"'))\n",
    "n_old = len(df2.query('landing_page == \"old_page\"'))\n",
    "convert_new = len(df2.query('landing_page == \"new_page\" & converted == 1'))\n",
    "convert_old = len(df2.query('landing_page == \"old_page\" & converted == 1'))"
   ]
  },
  {
   "cell_type": "code",
   "execution_count": 33,
   "metadata": {},
   "outputs": [
    {
     "data": {
      "text/plain": [
       "(17264, 17489)"
      ]
     },
     "execution_count": 33,
     "metadata": {},
     "output_type": "execute_result"
    }
   ],
   "source": [
    "convert_new, convert_old"
   ]
  },
  {
   "cell_type": "code",
   "execution_count": 34,
   "metadata": {},
   "outputs": [
    {
     "data": {
      "text/plain": [
       "(145310, 145274)"
      ]
     },
     "execution_count": 34,
     "metadata": {},
     "output_type": "execute_result"
    }
   ],
   "source": [
    "n_new, n_old"
   ]
  },
  {
   "cell_type": "markdown",
   "metadata": {
    "id": "pPmtyjD_YaUD"
   },
   "source": [
    "m. Now use `stats.proportions_ztest` to compute your test statistic and p-value."
   ]
  },
  {
   "cell_type": "code",
   "execution_count": 35,
   "metadata": {
    "id": "Cr3DXQcvYaUE",
    "outputId": "f278b757-6207-48d3-cd00-016c80320374"
   },
   "outputs": [
    {
     "data": {
      "text/plain": [
       "(1.3109241984234394, 0.9050583127590245)"
      ]
     },
     "execution_count": 35,
     "metadata": {},
     "output_type": "execute_result"
    }
   ],
   "source": [
    "#calculate z_score 和 p_value\n",
    "z_score, p_value = sm.stats.proportions_ztest([convert_old, convert_new], [n_old, n_new],value=None, alternative='smaller', prop_var=False)\n",
    "\n",
    "z_score, p_value"
   ]
  },
  {
   "cell_type": "markdown",
   "metadata": {
    "id": "v-wtdvyiYaUE"
   },
   "source": [
    "n. What do the z-score and p-value you computed in the previous question mean for the conversion rates of the old and new pages?  Do they agree with the findings in parts **j.** and **k.**?"
   ]
  },
  {
   "cell_type": "markdown",
   "metadata": {
    "id": "uNWokBy-YaUE"
   },
   "source": [
    "The z-score and the p_value mean that one doesn't reject the Null. The Null being the converted rate of the old_page is the same or greater than the converted rate of the new_page. The p_value is 0.91 and is higher than 0.05 significance level. That means we can not be confident with a 95% confidence level that the converted rate of the new_page is  larger than the old_page. "
   ]
  },
  {
   "cell_type": "markdown",
   "metadata": {
    "id": "rVaNeaJdYaUE"
   },
   "source": [
    "<a id='regression'></a>\n",
    "### Part III - A regression approach（optional）\n",
    "\n",
    "`1.` In this final part, you will see that the result you acheived in the previous A/B test can also be acheived by performing regression.<br><br>\n",
    "\n",
    "a. Since each row is either a conversion or no conversion, what type of regression should you be performing in this case?"
   ]
  },
  {
   "cell_type": "markdown",
   "metadata": {
    "id": "3CcyB1BXYaUE"
   },
   "source": [
    "The dependent variable is a binary variable (converted vs not converted). Thus, you need to use a logistic regression. "
   ]
  },
  {
   "cell_type": "markdown",
   "metadata": {
    "id": "4_lldplsYaUE"
   },
   "source": [
    "b. The goal is to use **statsmodels** to fit the regression model you specified in part **a.** to see if there is a significant difference in conversion based on which page a customer receives.  However, you first need to create a column for the intercept, and create a dummy variable column for which page each user received.  Add an **intercept** column, as well as an **ab_page** column, which is 1 when an individual receives the **treatment** and 0 if **control**."
   ]
  },
  {
   "cell_type": "code",
   "execution_count": 36,
   "metadata": {
    "id": "aH4NgidtYaUF",
    "outputId": "43954462-8979-447a-9ce3-1bb8cf5d412d"
   },
   "outputs": [
    {
     "data": {
      "text/html": [
       "<div>\n",
       "<style scoped>\n",
       "    .dataframe tbody tr th:only-of-type {\n",
       "        vertical-align: middle;\n",
       "    }\n",
       "\n",
       "    .dataframe tbody tr th {\n",
       "        vertical-align: top;\n",
       "    }\n",
       "\n",
       "    .dataframe thead th {\n",
       "        text-align: right;\n",
       "    }\n",
       "</style>\n",
       "<table border=\"1\" class=\"dataframe\">\n",
       "  <thead>\n",
       "    <tr style=\"text-align: right;\">\n",
       "      <th></th>\n",
       "      <th>user_id</th>\n",
       "      <th>timestamp</th>\n",
       "      <th>group</th>\n",
       "      <th>landing_page</th>\n",
       "      <th>converted</th>\n",
       "      <th>treatment</th>\n",
       "    </tr>\n",
       "  </thead>\n",
       "  <tbody>\n",
       "    <tr>\n",
       "      <th>0</th>\n",
       "      <td>851104</td>\n",
       "      <td>2017-01-21 22:11:48.556739</td>\n",
       "      <td>control</td>\n",
       "      <td>old_page</td>\n",
       "      <td>0</td>\n",
       "      <td>0</td>\n",
       "    </tr>\n",
       "    <tr>\n",
       "      <th>1</th>\n",
       "      <td>804228</td>\n",
       "      <td>2017-01-12 08:01:45.159739</td>\n",
       "      <td>control</td>\n",
       "      <td>old_page</td>\n",
       "      <td>0</td>\n",
       "      <td>0</td>\n",
       "    </tr>\n",
       "    <tr>\n",
       "      <th>2</th>\n",
       "      <td>661590</td>\n",
       "      <td>2017-01-11 16:55:06.154213</td>\n",
       "      <td>treatment</td>\n",
       "      <td>new_page</td>\n",
       "      <td>0</td>\n",
       "      <td>1</td>\n",
       "    </tr>\n",
       "    <tr>\n",
       "      <th>3</th>\n",
       "      <td>853541</td>\n",
       "      <td>2017-01-08 18:28:03.143765</td>\n",
       "      <td>treatment</td>\n",
       "      <td>new_page</td>\n",
       "      <td>0</td>\n",
       "      <td>1</td>\n",
       "    </tr>\n",
       "    <tr>\n",
       "      <th>4</th>\n",
       "      <td>864975</td>\n",
       "      <td>2017-01-21 01:52:26.210827</td>\n",
       "      <td>control</td>\n",
       "      <td>old_page</td>\n",
       "      <td>1</td>\n",
       "      <td>0</td>\n",
       "    </tr>\n",
       "  </tbody>\n",
       "</table>\n",
       "</div>"
      ],
      "text/plain": [
       "   user_id                   timestamp      group landing_page  converted  \\\n",
       "0   851104  2017-01-21 22:11:48.556739    control     old_page          0   \n",
       "1   804228  2017-01-12 08:01:45.159739    control     old_page          0   \n",
       "2   661590  2017-01-11 16:55:06.154213  treatment     new_page          0   \n",
       "3   853541  2017-01-08 18:28:03.143765  treatment     new_page          0   \n",
       "4   864975  2017-01-21 01:52:26.210827    control     old_page          1   \n",
       "\n",
       "   treatment  \n",
       "0          0  \n",
       "1          0  \n",
       "2          1  \n",
       "3          1  \n",
       "4          0  "
      ]
     },
     "execution_count": 36,
     "metadata": {},
     "output_type": "execute_result"
    }
   ],
   "source": [
    "df2[['control','treatment']]= pd.get_dummies(df2['group'])\n",
    "df2 = df2.drop('control',axis = 1)\n",
    "\n",
    "df2.head()"
   ]
  },
  {
   "cell_type": "code",
   "execution_count": 37,
   "metadata": {
    "id": "wJXakDwZYaUF",
    "outputId": "2655612c-5c08-4de2-f282-fabdfe9dc5f0"
   },
   "outputs": [
    {
     "data": {
      "text/html": [
       "<div>\n",
       "<style scoped>\n",
       "    .dataframe tbody tr th:only-of-type {\n",
       "        vertical-align: middle;\n",
       "    }\n",
       "\n",
       "    .dataframe tbody tr th {\n",
       "        vertical-align: top;\n",
       "    }\n",
       "\n",
       "    .dataframe thead th {\n",
       "        text-align: right;\n",
       "    }\n",
       "</style>\n",
       "<table border=\"1\" class=\"dataframe\">\n",
       "  <thead>\n",
       "    <tr style=\"text-align: right;\">\n",
       "      <th></th>\n",
       "      <th>user_id</th>\n",
       "      <th>timestamp</th>\n",
       "      <th>group</th>\n",
       "      <th>landing_page</th>\n",
       "      <th>converted</th>\n",
       "      <th>ab_page</th>\n",
       "    </tr>\n",
       "  </thead>\n",
       "  <tbody>\n",
       "    <tr>\n",
       "      <th>0</th>\n",
       "      <td>851104</td>\n",
       "      <td>2017-01-21 22:11:48.556739</td>\n",
       "      <td>control</td>\n",
       "      <td>old_page</td>\n",
       "      <td>0</td>\n",
       "      <td>0</td>\n",
       "    </tr>\n",
       "    <tr>\n",
       "      <th>1</th>\n",
       "      <td>804228</td>\n",
       "      <td>2017-01-12 08:01:45.159739</td>\n",
       "      <td>control</td>\n",
       "      <td>old_page</td>\n",
       "      <td>0</td>\n",
       "      <td>0</td>\n",
       "    </tr>\n",
       "    <tr>\n",
       "      <th>2</th>\n",
       "      <td>661590</td>\n",
       "      <td>2017-01-11 16:55:06.154213</td>\n",
       "      <td>treatment</td>\n",
       "      <td>new_page</td>\n",
       "      <td>0</td>\n",
       "      <td>1</td>\n",
       "    </tr>\n",
       "    <tr>\n",
       "      <th>3</th>\n",
       "      <td>853541</td>\n",
       "      <td>2017-01-08 18:28:03.143765</td>\n",
       "      <td>treatment</td>\n",
       "      <td>new_page</td>\n",
       "      <td>0</td>\n",
       "      <td>1</td>\n",
       "    </tr>\n",
       "    <tr>\n",
       "      <th>4</th>\n",
       "      <td>864975</td>\n",
       "      <td>2017-01-21 01:52:26.210827</td>\n",
       "      <td>control</td>\n",
       "      <td>old_page</td>\n",
       "      <td>1</td>\n",
       "      <td>0</td>\n",
       "    </tr>\n",
       "  </tbody>\n",
       "</table>\n",
       "</div>"
      ],
      "text/plain": [
       "   user_id                   timestamp      group landing_page  converted  \\\n",
       "0   851104  2017-01-21 22:11:48.556739    control     old_page          0   \n",
       "1   804228  2017-01-12 08:01:45.159739    control     old_page          0   \n",
       "2   661590  2017-01-11 16:55:06.154213  treatment     new_page          0   \n",
       "3   853541  2017-01-08 18:28:03.143765  treatment     new_page          0   \n",
       "4   864975  2017-01-21 01:52:26.210827    control     old_page          1   \n",
       "\n",
       "   ab_page  \n",
       "0        0  \n",
       "1        0  \n",
       "2        1  \n",
       "3        1  \n",
       "4        0  "
      ]
     },
     "execution_count": 37,
     "metadata": {},
     "output_type": "execute_result"
    }
   ],
   "source": [
    "#change treatment to ab_page\n",
    "df3 = df2.rename(columns={'treatment': 'ab_page'})\n",
    "df3.head()"
   ]
  },
  {
   "cell_type": "markdown",
   "metadata": {
    "id": "EBMCBL53YaUF"
   },
   "source": [
    "\n",
    "c. Use **statsmodels** to import your regression model.  Instantiate the model, and fit the model using the two columns you created in part **b.** to predict whether or not an individual converts."
   ]
  },
  {
   "cell_type": "code",
   "execution_count": 38,
   "metadata": {
    "id": "_w4rLXcnYaUF",
    "outputId": "e5c19fca-fde0-493c-e490-5b3fd54c9710"
   },
   "outputs": [],
   "source": [
    "from scipy import stats\n",
    "\n",
    "df3['intercept'] = 1\n",
    "df3 = df3.dropna()"
   ]
  },
  {
   "cell_type": "code",
   "execution_count": 39,
   "metadata": {},
   "outputs": [],
   "source": [
    "#df3['ab_page'] = df3['ab_page'].astype(int)"
   ]
  },
  {
   "cell_type": "code",
   "execution_count": 40,
   "metadata": {},
   "outputs": [
    {
     "name": "stdout",
     "output_type": "stream",
     "text": [
      "Optimization terminated successfully.\n",
      "         Current function value: 0.366118\n",
      "         Iterations 6\n"
     ]
    },
    {
     "data": {
      "text/html": [
       "<table class=\"simpletable\">\n",
       "<caption>Logit Regression Results</caption>\n",
       "<tr>\n",
       "  <th>Dep. Variable:</th>       <td>converted</td>    <th>  No. Observations:  </th>   <td>290584</td>   \n",
       "</tr>\n",
       "<tr>\n",
       "  <th>Model:</th>                 <td>Logit</td>      <th>  Df Residuals:      </th>   <td>290582</td>   \n",
       "</tr>\n",
       "<tr>\n",
       "  <th>Method:</th>                 <td>MLE</td>       <th>  Df Model:          </th>   <td>     1</td>   \n",
       "</tr>\n",
       "<tr>\n",
       "  <th>Date:</th>            <td>Thu, 08 Jun 2023</td> <th>  Pseudo R-squ.:     </th>  <td>8.077e-06</td> \n",
       "</tr>\n",
       "<tr>\n",
       "  <th>Time:</th>                <td>03:24:04</td>     <th>  Log-Likelihood:    </th> <td>-1.0639e+05</td>\n",
       "</tr>\n",
       "<tr>\n",
       "  <th>converged:</th>             <td>True</td>       <th>  LL-Null:           </th> <td>-1.0639e+05</td>\n",
       "</tr>\n",
       "<tr>\n",
       "  <th>Covariance Type:</th>     <td>nonrobust</td>    <th>  LLR p-value:       </th>   <td>0.1899</td>   \n",
       "</tr>\n",
       "</table>\n",
       "<table class=\"simpletable\">\n",
       "<tr>\n",
       "      <td></td>         <th>coef</th>     <th>std err</th>      <th>z</th>      <th>P>|z|</th>  <th>[0.025</th>    <th>0.975]</th>  \n",
       "</tr>\n",
       "<tr>\n",
       "  <th>intercept</th> <td>   -1.9888</td> <td>    0.008</td> <td> -246.669</td> <td> 0.000</td> <td>   -2.005</td> <td>   -1.973</td>\n",
       "</tr>\n",
       "<tr>\n",
       "  <th>ab_page</th>   <td>   -0.0150</td> <td>    0.011</td> <td>   -1.311</td> <td> 0.190</td> <td>   -0.037</td> <td>    0.007</td>\n",
       "</tr>\n",
       "</table>"
      ],
      "text/plain": [
       "<class 'statsmodels.iolib.summary.Summary'>\n",
       "\"\"\"\n",
       "                           Logit Regression Results                           \n",
       "==============================================================================\n",
       "Dep. Variable:              converted   No. Observations:               290584\n",
       "Model:                          Logit   Df Residuals:                   290582\n",
       "Method:                           MLE   Df Model:                            1\n",
       "Date:                Thu, 08 Jun 2023   Pseudo R-squ.:               8.077e-06\n",
       "Time:                        03:24:04   Log-Likelihood:            -1.0639e+05\n",
       "converged:                       True   LL-Null:                   -1.0639e+05\n",
       "Covariance Type:            nonrobust   LLR p-value:                    0.1899\n",
       "==============================================================================\n",
       "                 coef    std err          z      P>|z|      [0.025      0.975]\n",
       "------------------------------------------------------------------------------\n",
       "intercept     -1.9888      0.008   -246.669      0.000      -2.005      -1.973\n",
       "ab_page       -0.0150      0.011     -1.311      0.190      -0.037       0.007\n",
       "==============================================================================\n",
       "\"\"\""
      ]
     },
     "execution_count": 40,
     "metadata": {},
     "output_type": "execute_result"
    }
   ],
   "source": [
    "lm = sm.Logit(df3['converted'],df3[['intercept','ab_page']])\n",
    "results = lm.fit()\n",
    "results.summary()"
   ]
  },
  {
   "cell_type": "markdown",
   "metadata": {
    "id": "Bg0JecebYaUF"
   },
   "source": [
    "d. Provide the summary of your model below, and use it as necessary to answer the following questions."
   ]
  },
  {
   "cell_type": "markdown",
   "metadata": {
    "id": "C2oCU2gmYaUF"
   },
   "source": [
    "Based on the provided regression analysis results, the following conclusions can be drawn:\n",
    "\n",
    "- We used a Logit regression model to predict conversion rate.\n",
    "- The number of observations in the sample is 290,584, which represents the total number of observations analyzed.\n",
    "- The model was fitted using the Maximum Likelihood Estimation (MLE) method.\n",
    "- The model has 1 degree of freedom for the model and 290,582 degrees of freedom for residuals.\n",
    "- The pseudo R-squared value is 8.077e-06, which is close to zero, indicating that the model has a weak explanatory power for the target variable.\n",
    "- The model has a good fit as indicated by the converged value of True, indicating that the model has converged.\n",
    "- The Log-Likelihood value is -1.0639e+05, which can be used to compare the goodness of fit among different models.\n",
    "- In terms of statistical significance testing, the intercept has a very small p-value (close to zero), indicating that the intercept term is significant in the model.\n",
    "- The coefficient for ab_page is -0.0150 with a p-value of 0.190, which is relatively large (greater than 0.05), suggesting that the ab_page variable is not statistically significant and does not have a significant relationship with the conversion rate.\n",
    "\n",
    "It is important to note that while the model fits the overall dataset well, the coefficient and p-value for ab_page indicate that there is no significant relationship between ab_page and the conversion rate. Therefore, further exploration of other variables or reconsideration of the model's construction may be necessary."
   ]
  },
  {
   "cell_type": "markdown",
   "metadata": {
    "id": "x_1-hA2jYaUG"
   },
   "source": [
    "e. What is the p-value associated with **ab_page**? Why does it differ from the value you found in **Part II**?<br><br>  **Hint**: What are the null and alternative hypotheses associated with your regression model, and how do they compare to the null and alternative hypotheses in the **Part II**?"
   ]
  },
  {
   "cell_type": "markdown",
   "metadata": {
    "id": "6YvX6JiYYaUG"
   },
   "source": [
    "The p-value associated with ab_page is 0.19. It is higher than 0.05. Thus, **the coefficient is not significant.** \n",
    "\n",
    "Alternative hypothesis from part II: the conversion rate of the old_page is less than the conversion rate of the new_page. This assumes a one-tailed test. In Part III, the alternative hypothesis can be formulated as follows: \n",
    "(1) The landing_page type influences (positively or negatively) the conversion rate or (2) the conversion rate of the old_page is different to the conversion rate of the new_page. This assumes a two-tailed test.\n",
    "\n",
    "in both cases, the results do not support the alternative hypothesis sufficiently. \n",
    "\n",
    "The p-value is very different. In part II the p-value is 0.91. This might be because the tests of the regression model (not the A/B test) assumes an intercept and because of differences in one or two-tailed testing. "
   ]
  },
  {
   "cell_type": "markdown",
   "metadata": {
    "id": "qZYziSEhYaUG"
   },
   "source": [
    "f. Now, you are considering other things that might influence whether or not an individual converts.  Discuss why it is a good idea to consider other factors to add into your regression model.  Are there any disadvantages to adding additional terms into your regression model?"
   ]
  },
  {
   "cell_type": "markdown",
   "metadata": {
    "id": "7v_vbW0pYaUG"
   },
   "source": [
    "It is a good idea to consider other factors in order to **identify other potencial influences on the conversion rate.** \n",
    "\n",
    "A **disadvantage is that the model gets more complex**. "
   ]
  },
  {
   "cell_type": "markdown",
   "metadata": {
    "id": "zuDoFSTeYaUG"
   },
   "source": [
    "g. Now along with testing if the conversion rate changes for different pages, also add an effect based on which country a user lives. You will need to read in the **countries.csv** dataset and merge together your datasets on the approporiate rows.  [Here](https://pandas.pydata.org/pandas-docs/stable/generated/pandas.DataFrame.join.html) are the docs for joining tables. \n",
    "\n",
    "Does it appear that country had an impact on conversion?  Don't forget to create dummy variables for these country columns - **Hint: You will need two columns for the three dummy variables.** Provide the statistical output as well as a written response to answer this question."
   ]
  },
  {
   "cell_type": "code",
   "execution_count": 41,
   "metadata": {
    "id": "iNkfbSwxYaUG"
   },
   "outputs": [],
   "source": [
    "countries_df = pd.read_csv('./countries.csv')\n",
    "df_new = countries_df.set_index('user_id').join(df3.set_index('user_id'), how='inner')"
   ]
  },
  {
   "cell_type": "code",
   "execution_count": 42,
   "metadata": {
    "id": "87Szmp-cYaUG",
    "outputId": "8037513b-f7de-4007-ea8c-c2896343b144"
   },
   "outputs": [
    {
     "data": {
      "text/html": [
       "<div>\n",
       "<style scoped>\n",
       "    .dataframe tbody tr th:only-of-type {\n",
       "        vertical-align: middle;\n",
       "    }\n",
       "\n",
       "    .dataframe tbody tr th {\n",
       "        vertical-align: top;\n",
       "    }\n",
       "\n",
       "    .dataframe thead th {\n",
       "        text-align: right;\n",
       "    }\n",
       "</style>\n",
       "<table border=\"1\" class=\"dataframe\">\n",
       "  <thead>\n",
       "    <tr style=\"text-align: right;\">\n",
       "      <th></th>\n",
       "      <th>country</th>\n",
       "      <th>timestamp</th>\n",
       "      <th>group</th>\n",
       "      <th>landing_page</th>\n",
       "      <th>converted</th>\n",
       "      <th>ab_page</th>\n",
       "      <th>intercept</th>\n",
       "    </tr>\n",
       "    <tr>\n",
       "      <th>user_id</th>\n",
       "      <th></th>\n",
       "      <th></th>\n",
       "      <th></th>\n",
       "      <th></th>\n",
       "      <th></th>\n",
       "      <th></th>\n",
       "      <th></th>\n",
       "    </tr>\n",
       "  </thead>\n",
       "  <tbody>\n",
       "    <tr>\n",
       "      <th>834778</th>\n",
       "      <td>UK</td>\n",
       "      <td>2017-01-14 23:08:43.304998</td>\n",
       "      <td>control</td>\n",
       "      <td>old_page</td>\n",
       "      <td>0</td>\n",
       "      <td>0</td>\n",
       "      <td>1</td>\n",
       "    </tr>\n",
       "    <tr>\n",
       "      <th>928468</th>\n",
       "      <td>US</td>\n",
       "      <td>2017-01-23 14:44:16.387854</td>\n",
       "      <td>treatment</td>\n",
       "      <td>new_page</td>\n",
       "      <td>0</td>\n",
       "      <td>1</td>\n",
       "      <td>1</td>\n",
       "    </tr>\n",
       "    <tr>\n",
       "      <th>822059</th>\n",
       "      <td>UK</td>\n",
       "      <td>2017-01-16 14:04:14.719771</td>\n",
       "      <td>treatment</td>\n",
       "      <td>new_page</td>\n",
       "      <td>1</td>\n",
       "      <td>1</td>\n",
       "      <td>1</td>\n",
       "    </tr>\n",
       "    <tr>\n",
       "      <th>711597</th>\n",
       "      <td>UK</td>\n",
       "      <td>2017-01-22 03:14:24.763511</td>\n",
       "      <td>control</td>\n",
       "      <td>old_page</td>\n",
       "      <td>0</td>\n",
       "      <td>0</td>\n",
       "      <td>1</td>\n",
       "    </tr>\n",
       "    <tr>\n",
       "      <th>710616</th>\n",
       "      <td>UK</td>\n",
       "      <td>2017-01-16 13:14:44.000513</td>\n",
       "      <td>treatment</td>\n",
       "      <td>new_page</td>\n",
       "      <td>0</td>\n",
       "      <td>1</td>\n",
       "      <td>1</td>\n",
       "    </tr>\n",
       "  </tbody>\n",
       "</table>\n",
       "</div>"
      ],
      "text/plain": [
       "        country                   timestamp      group landing_page  \\\n",
       "user_id                                                               \n",
       "834778       UK  2017-01-14 23:08:43.304998    control     old_page   \n",
       "928468       US  2017-01-23 14:44:16.387854  treatment     new_page   \n",
       "822059       UK  2017-01-16 14:04:14.719771  treatment     new_page   \n",
       "711597       UK  2017-01-22 03:14:24.763511    control     old_page   \n",
       "710616       UK  2017-01-16 13:14:44.000513  treatment     new_page   \n",
       "\n",
       "         converted  ab_page  intercept  \n",
       "user_id                                 \n",
       "834778           0        0          1  \n",
       "928468           0        1          1  \n",
       "822059           1        1          1  \n",
       "711597           0        0          1  \n",
       "710616           0        1          1  "
      ]
     },
     "execution_count": 42,
     "metadata": {},
     "output_type": "execute_result"
    }
   ],
   "source": [
    "df_new.head()"
   ]
  },
  {
   "cell_type": "code",
   "execution_count": 43,
   "metadata": {
    "id": "UOfrHBvsYaUH",
    "outputId": "9fb850b8-4b0d-4154-a58e-88b3e2905238",
    "scrolled": true
   },
   "outputs": [
    {
     "data": {
      "text/plain": [
       "0.5000619442226688"
      ]
     },
     "execution_count": 43,
     "metadata": {},
     "output_type": "execute_result"
    }
   ],
   "source": [
    "#mean of conversion rate\n",
    "df_new.ab_page.mean()"
   ]
  },
  {
   "cell_type": "code",
   "execution_count": 44,
   "metadata": {},
   "outputs": [],
   "source": [
    "df_new['country'] = df_new['country'].astype(str)\n"
   ]
  },
  {
   "cell_type": "code",
   "execution_count": 45,
   "metadata": {
    "id": "1LP91xU3YaUH",
    "outputId": "2e5d1b12-794f-4daa-a9cb-4fb49f963588"
   },
   "outputs": [
    {
     "name": "stderr",
     "output_type": "stream",
     "text": [
      "/var/folders/1r/j7hbz3757qbc87pbw8ghcq6h0000gp/T/ipykernel_18349/3307943571.py:1: FutureWarning: The default value of numeric_only in DataFrameGroupBy.mean is deprecated. In a future version, numeric_only will default to False. Either specify numeric_only or select only columns which should be valid for the function.\n",
      "  df_new.groupby(['country'], as_index=False).mean()\n"
     ]
    },
    {
     "data": {
      "text/html": [
       "<div>\n",
       "<style scoped>\n",
       "    .dataframe tbody tr th:only-of-type {\n",
       "        vertical-align: middle;\n",
       "    }\n",
       "\n",
       "    .dataframe tbody tr th {\n",
       "        vertical-align: top;\n",
       "    }\n",
       "\n",
       "    .dataframe thead th {\n",
       "        text-align: right;\n",
       "    }\n",
       "</style>\n",
       "<table border=\"1\" class=\"dataframe\">\n",
       "  <thead>\n",
       "    <tr style=\"text-align: right;\">\n",
       "      <th></th>\n",
       "      <th>country</th>\n",
       "      <th>converted</th>\n",
       "      <th>ab_page</th>\n",
       "      <th>intercept</th>\n",
       "    </tr>\n",
       "  </thead>\n",
       "  <tbody>\n",
       "    <tr>\n",
       "      <th>0</th>\n",
       "      <td>CA</td>\n",
       "      <td>0.115318</td>\n",
       "      <td>0.503552</td>\n",
       "      <td>1.0</td>\n",
       "    </tr>\n",
       "    <tr>\n",
       "      <th>1</th>\n",
       "      <td>UK</td>\n",
       "      <td>0.120594</td>\n",
       "      <td>0.498247</td>\n",
       "      <td>1.0</td>\n",
       "    </tr>\n",
       "    <tr>\n",
       "      <th>2</th>\n",
       "      <td>US</td>\n",
       "      <td>0.119547</td>\n",
       "      <td>0.500459</td>\n",
       "      <td>1.0</td>\n",
       "    </tr>\n",
       "  </tbody>\n",
       "</table>\n",
       "</div>"
      ],
      "text/plain": [
       "  country  converted   ab_page  intercept\n",
       "0      CA   0.115318  0.503552        1.0\n",
       "1      UK   0.120594  0.498247        1.0\n",
       "2      US   0.119547  0.500459        1.0"
      ]
     },
     "execution_count": 45,
     "metadata": {},
     "output_type": "execute_result"
    }
   ],
   "source": [
    "df_new.groupby(['country'], as_index=False).mean()"
   ]
  },
  {
   "cell_type": "code",
   "execution_count": 46,
   "metadata": {
    "id": "FmI1_lM3YaUH",
    "outputId": "def4d432-c6a3-48f6-ac49-8a6939970dcc"
   },
   "outputs": [
    {
     "name": "stderr",
     "output_type": "stream",
     "text": [
      "/var/folders/1r/j7hbz3757qbc87pbw8ghcq6h0000gp/T/ipykernel_18349/1451119756.py:2: FutureWarning: The default value of numeric_only in DataFrameGroupBy.mean is deprecated. In a future version, numeric_only will default to False. Either specify numeric_only or select only columns which should be valid for the function.\n",
      "  df_new.groupby(['ab_page'], as_index=False).mean()\n"
     ]
    },
    {
     "data": {
      "text/html": [
       "<div>\n",
       "<style scoped>\n",
       "    .dataframe tbody tr th:only-of-type {\n",
       "        vertical-align: middle;\n",
       "    }\n",
       "\n",
       "    .dataframe tbody tr th {\n",
       "        vertical-align: top;\n",
       "    }\n",
       "\n",
       "    .dataframe thead th {\n",
       "        text-align: right;\n",
       "    }\n",
       "</style>\n",
       "<table border=\"1\" class=\"dataframe\">\n",
       "  <thead>\n",
       "    <tr style=\"text-align: right;\">\n",
       "      <th></th>\n",
       "      <th>ab_page</th>\n",
       "      <th>converted</th>\n",
       "      <th>intercept</th>\n",
       "    </tr>\n",
       "  </thead>\n",
       "  <tbody>\n",
       "    <tr>\n",
       "      <th>0</th>\n",
       "      <td>0</td>\n",
       "      <td>0.120386</td>\n",
       "      <td>1.0</td>\n",
       "    </tr>\n",
       "    <tr>\n",
       "      <th>1</th>\n",
       "      <td>1</td>\n",
       "      <td>0.118808</td>\n",
       "      <td>1.0</td>\n",
       "    </tr>\n",
       "  </tbody>\n",
       "</table>\n",
       "</div>"
      ],
      "text/plain": [
       "   ab_page  converted  intercept\n",
       "0        0   0.120386        1.0\n",
       "1        1   0.118808        1.0"
      ]
     },
     "execution_count": 46,
     "metadata": {},
     "output_type": "execute_result"
    }
   ],
   "source": [
    "#mean conversion rate by landing_page \n",
    "df_new.groupby(['ab_page'], as_index=False).mean()"
   ]
  },
  {
   "cell_type": "code",
   "execution_count": 47,
   "metadata": {
    "id": "Ma9TXYGEYaUH",
    "outputId": "2fbc7dc4-9f7e-4a89-fdf8-29da9e6b52e0",
    "scrolled": true
   },
   "outputs": [
    {
     "data": {
      "text/html": [
       "<div>\n",
       "<style scoped>\n",
       "    .dataframe tbody tr th:only-of-type {\n",
       "        vertical-align: middle;\n",
       "    }\n",
       "\n",
       "    .dataframe tbody tr th {\n",
       "        vertical-align: top;\n",
       "    }\n",
       "\n",
       "    .dataframe thead th {\n",
       "        text-align: right;\n",
       "    }\n",
       "</style>\n",
       "<table border=\"1\" class=\"dataframe\">\n",
       "  <thead>\n",
       "    <tr style=\"text-align: right;\">\n",
       "      <th></th>\n",
       "      <th>country</th>\n",
       "      <th>timestamp</th>\n",
       "      <th>group</th>\n",
       "      <th>landing_page</th>\n",
       "      <th>converted</th>\n",
       "      <th>ab_page</th>\n",
       "      <th>intercept</th>\n",
       "      <th>CA</th>\n",
       "      <th>UK</th>\n",
       "      <th>US</th>\n",
       "    </tr>\n",
       "    <tr>\n",
       "      <th>user_id</th>\n",
       "      <th></th>\n",
       "      <th></th>\n",
       "      <th></th>\n",
       "      <th></th>\n",
       "      <th></th>\n",
       "      <th></th>\n",
       "      <th></th>\n",
       "      <th></th>\n",
       "      <th></th>\n",
       "      <th></th>\n",
       "    </tr>\n",
       "  </thead>\n",
       "  <tbody>\n",
       "    <tr>\n",
       "      <th>834778</th>\n",
       "      <td>UK</td>\n",
       "      <td>2017-01-14 23:08:43.304998</td>\n",
       "      <td>control</td>\n",
       "      <td>old_page</td>\n",
       "      <td>0</td>\n",
       "      <td>0</td>\n",
       "      <td>1</td>\n",
       "      <td>0</td>\n",
       "      <td>1</td>\n",
       "      <td>0</td>\n",
       "    </tr>\n",
       "    <tr>\n",
       "      <th>928468</th>\n",
       "      <td>US</td>\n",
       "      <td>2017-01-23 14:44:16.387854</td>\n",
       "      <td>treatment</td>\n",
       "      <td>new_page</td>\n",
       "      <td>0</td>\n",
       "      <td>1</td>\n",
       "      <td>1</td>\n",
       "      <td>0</td>\n",
       "      <td>0</td>\n",
       "      <td>1</td>\n",
       "    </tr>\n",
       "    <tr>\n",
       "      <th>822059</th>\n",
       "      <td>UK</td>\n",
       "      <td>2017-01-16 14:04:14.719771</td>\n",
       "      <td>treatment</td>\n",
       "      <td>new_page</td>\n",
       "      <td>1</td>\n",
       "      <td>1</td>\n",
       "      <td>1</td>\n",
       "      <td>0</td>\n",
       "      <td>1</td>\n",
       "      <td>0</td>\n",
       "    </tr>\n",
       "    <tr>\n",
       "      <th>711597</th>\n",
       "      <td>UK</td>\n",
       "      <td>2017-01-22 03:14:24.763511</td>\n",
       "      <td>control</td>\n",
       "      <td>old_page</td>\n",
       "      <td>0</td>\n",
       "      <td>0</td>\n",
       "      <td>1</td>\n",
       "      <td>0</td>\n",
       "      <td>1</td>\n",
       "      <td>0</td>\n",
       "    </tr>\n",
       "    <tr>\n",
       "      <th>710616</th>\n",
       "      <td>UK</td>\n",
       "      <td>2017-01-16 13:14:44.000513</td>\n",
       "      <td>treatment</td>\n",
       "      <td>new_page</td>\n",
       "      <td>0</td>\n",
       "      <td>1</td>\n",
       "      <td>1</td>\n",
       "      <td>0</td>\n",
       "      <td>1</td>\n",
       "      <td>0</td>\n",
       "    </tr>\n",
       "  </tbody>\n",
       "</table>\n",
       "</div>"
      ],
      "text/plain": [
       "        country                   timestamp      group landing_page  \\\n",
       "user_id                                                               \n",
       "834778       UK  2017-01-14 23:08:43.304998    control     old_page   \n",
       "928468       US  2017-01-23 14:44:16.387854  treatment     new_page   \n",
       "822059       UK  2017-01-16 14:04:14.719771  treatment     new_page   \n",
       "711597       UK  2017-01-22 03:14:24.763511    control     old_page   \n",
       "710616       UK  2017-01-16 13:14:44.000513  treatment     new_page   \n",
       "\n",
       "         converted  ab_page  intercept  CA  UK  US  \n",
       "user_id                                             \n",
       "834778           0        0          1   0   1   0  \n",
       "928468           0        1          1   0   0   1  \n",
       "822059           1        1          1   0   1   0  \n",
       "711597           0        0          1   0   1   0  \n",
       "710616           0        1          1   0   1   0  "
      ]
     },
     "execution_count": 47,
     "metadata": {},
     "output_type": "execute_result"
    }
   ],
   "source": [
    "# Create the necessary dummy variables\n",
    "df_new[['CA','UK', 'US']]= pd.get_dummies(df_new['country'])\n",
    "\n",
    "df_new.head()"
   ]
  },
  {
   "cell_type": "code",
   "execution_count": 48,
   "metadata": {
    "id": "FOsQNddzYaUH",
    "outputId": "85bd2918-7eb2-4981-e9f4-f83e8684238f"
   },
   "outputs": [
    {
     "name": "stdout",
     "output_type": "stream",
     "text": [
      "Optimization terminated successfully.\n",
      "         Current function value: 0.366113\n",
      "         Iterations 6\n"
     ]
    },
    {
     "data": {
      "text/html": [
       "<table class=\"simpletable\">\n",
       "<caption>Logit Regression Results</caption>\n",
       "<tr>\n",
       "  <th>Dep. Variable:</th>       <td>converted</td>    <th>  No. Observations:  </th>   <td>290584</td>   \n",
       "</tr>\n",
       "<tr>\n",
       "  <th>Model:</th>                 <td>Logit</td>      <th>  Df Residuals:      </th>   <td>290580</td>   \n",
       "</tr>\n",
       "<tr>\n",
       "  <th>Method:</th>                 <td>MLE</td>       <th>  Df Model:          </th>   <td>     3</td>   \n",
       "</tr>\n",
       "<tr>\n",
       "  <th>Date:</th>            <td>Thu, 08 Jun 2023</td> <th>  Pseudo R-squ.:     </th>  <td>2.323e-05</td> \n",
       "</tr>\n",
       "<tr>\n",
       "  <th>Time:</th>                <td>03:24:05</td>     <th>  Log-Likelihood:    </th> <td>-1.0639e+05</td>\n",
       "</tr>\n",
       "<tr>\n",
       "  <th>converged:</th>             <td>True</td>       <th>  LL-Null:           </th> <td>-1.0639e+05</td>\n",
       "</tr>\n",
       "<tr>\n",
       "  <th>Covariance Type:</th>     <td>nonrobust</td>    <th>  LLR p-value:       </th>   <td>0.1760</td>   \n",
       "</tr>\n",
       "</table>\n",
       "<table class=\"simpletable\">\n",
       "<tr>\n",
       "      <td></td>         <th>coef</th>     <th>std err</th>      <th>z</th>      <th>P>|z|</th>  <th>[0.025</th>    <th>0.975]</th>  \n",
       "</tr>\n",
       "<tr>\n",
       "  <th>intercept</th> <td>   -1.9794</td> <td>    0.013</td> <td> -155.415</td> <td> 0.000</td> <td>   -2.004</td> <td>   -1.954</td>\n",
       "</tr>\n",
       "<tr>\n",
       "  <th>ab_page</th>   <td>   -0.0149</td> <td>    0.011</td> <td>   -1.307</td> <td> 0.191</td> <td>   -0.037</td> <td>    0.007</td>\n",
       "</tr>\n",
       "<tr>\n",
       "  <th>CA</th>        <td>   -0.0506</td> <td>    0.028</td> <td>   -1.784</td> <td> 0.074</td> <td>   -0.106</td> <td>    0.005</td>\n",
       "</tr>\n",
       "<tr>\n",
       "  <th>US</th>        <td>   -0.0099</td> <td>    0.013</td> <td>   -0.743</td> <td> 0.457</td> <td>   -0.036</td> <td>    0.016</td>\n",
       "</tr>\n",
       "</table>"
      ],
      "text/plain": [
       "<class 'statsmodels.iolib.summary.Summary'>\n",
       "\"\"\"\n",
       "                           Logit Regression Results                           \n",
       "==============================================================================\n",
       "Dep. Variable:              converted   No. Observations:               290584\n",
       "Model:                          Logit   Df Residuals:                   290580\n",
       "Method:                           MLE   Df Model:                            3\n",
       "Date:                Thu, 08 Jun 2023   Pseudo R-squ.:               2.323e-05\n",
       "Time:                        03:24:05   Log-Likelihood:            -1.0639e+05\n",
       "converged:                       True   LL-Null:                   -1.0639e+05\n",
       "Covariance Type:            nonrobust   LLR p-value:                    0.1760\n",
       "==============================================================================\n",
       "                 coef    std err          z      P>|z|      [0.025      0.975]\n",
       "------------------------------------------------------------------------------\n",
       "intercept     -1.9794      0.013   -155.415      0.000      -2.004      -1.954\n",
       "ab_page       -0.0149      0.011     -1.307      0.191      -0.037       0.007\n",
       "CA            -0.0506      0.028     -1.784      0.074      -0.106       0.005\n",
       "US            -0.0099      0.013     -0.743      0.457      -0.036       0.016\n",
       "==============================================================================\n",
       "\"\"\""
      ]
     },
     "execution_count": 48,
     "metadata": {},
     "output_type": "execute_result"
    }
   ],
   "source": [
    "### Fit Your Linear Model And Obtain the Results\n",
    "df_new['intercept'] = 1\n",
    "\n",
    "lm = sm.Logit(df_new['converted'],df_new[['intercept','ab_page','CA','US']])\n",
    "results = lm.fit()\n",
    "results.summary()\n"
   ]
  },
  {
   "cell_type": "markdown",
   "metadata": {
    "id": "CrqUpvCVYaUH"
   },
   "source": [
    "The country does not appear to have influence on the convertion rate. P-values for the two dummy country variables are above 0.05. Note the CA variable get closes to 0.05.  "
   ]
  },
  {
   "cell_type": "markdown",
   "metadata": {
    "id": "7I_Bmt4TYaUI"
   },
   "source": [
    "h. Though you have now looked at the individual factors of country and page on conversion, we would now like to look at an interaction between page and country to see if there significant effects on conversion.  Create the necessary additional columns, and fit the new model.  \n",
    "\n",
    "Provide the summary results, and your conclusions based on the results."
   ]
  },
  {
   "cell_type": "code",
   "execution_count": 49,
   "metadata": {
    "id": "6A3Q7DDHYaUI",
    "outputId": "1d77e982-2784-4d07-9ec4-8da30808432d"
   },
   "outputs": [
    {
     "name": "stderr",
     "output_type": "stream",
     "text": [
      "/var/folders/1r/j7hbz3757qbc87pbw8ghcq6h0000gp/T/ipykernel_18349/2941443894.py:4: FutureWarning: The default value of numeric_only in DataFrameGroupBy.mean is deprecated. In a future version, numeric_only will default to False. Either specify numeric_only or select only columns which should be valid for the function.\n",
      "  df_new.groupby(['country','ab_page'], as_index=False).mean()\n"
     ]
    },
    {
     "data": {
      "text/html": [
       "<div>\n",
       "<style scoped>\n",
       "    .dataframe tbody tr th:only-of-type {\n",
       "        vertical-align: middle;\n",
       "    }\n",
       "\n",
       "    .dataframe tbody tr th {\n",
       "        vertical-align: top;\n",
       "    }\n",
       "\n",
       "    .dataframe thead th {\n",
       "        text-align: right;\n",
       "    }\n",
       "</style>\n",
       "<table border=\"1\" class=\"dataframe\">\n",
       "  <thead>\n",
       "    <tr style=\"text-align: right;\">\n",
       "      <th></th>\n",
       "      <th>country</th>\n",
       "      <th>ab_page</th>\n",
       "      <th>converted</th>\n",
       "      <th>intercept</th>\n",
       "      <th>CA</th>\n",
       "      <th>UK</th>\n",
       "      <th>US</th>\n",
       "    </tr>\n",
       "  </thead>\n",
       "  <tbody>\n",
       "    <tr>\n",
       "      <th>0</th>\n",
       "      <td>CA</td>\n",
       "      <td>0</td>\n",
       "      <td>0.118783</td>\n",
       "      <td>1.0</td>\n",
       "      <td>1.0</td>\n",
       "      <td>0.0</td>\n",
       "      <td>0.0</td>\n",
       "    </tr>\n",
       "    <tr>\n",
       "      <th>1</th>\n",
       "      <td>CA</td>\n",
       "      <td>1</td>\n",
       "      <td>0.111902</td>\n",
       "      <td>1.0</td>\n",
       "      <td>1.0</td>\n",
       "      <td>0.0</td>\n",
       "      <td>0.0</td>\n",
       "    </tr>\n",
       "    <tr>\n",
       "      <th>2</th>\n",
       "      <td>UK</td>\n",
       "      <td>0</td>\n",
       "      <td>0.120022</td>\n",
       "      <td>1.0</td>\n",
       "      <td>0.0</td>\n",
       "      <td>1.0</td>\n",
       "      <td>0.0</td>\n",
       "    </tr>\n",
       "    <tr>\n",
       "      <th>3</th>\n",
       "      <td>UK</td>\n",
       "      <td>1</td>\n",
       "      <td>0.121171</td>\n",
       "      <td>1.0</td>\n",
       "      <td>0.0</td>\n",
       "      <td>1.0</td>\n",
       "      <td>0.0</td>\n",
       "    </tr>\n",
       "    <tr>\n",
       "      <th>4</th>\n",
       "      <td>US</td>\n",
       "      <td>0</td>\n",
       "      <td>0.120630</td>\n",
       "      <td>1.0</td>\n",
       "      <td>0.0</td>\n",
       "      <td>0.0</td>\n",
       "      <td>1.0</td>\n",
       "    </tr>\n",
       "    <tr>\n",
       "      <th>5</th>\n",
       "      <td>US</td>\n",
       "      <td>1</td>\n",
       "      <td>0.118466</td>\n",
       "      <td>1.0</td>\n",
       "      <td>0.0</td>\n",
       "      <td>0.0</td>\n",
       "      <td>1.0</td>\n",
       "    </tr>\n",
       "  </tbody>\n",
       "</table>\n",
       "</div>"
      ],
      "text/plain": [
       "  country  ab_page  converted  intercept   CA   UK   US\n",
       "0      CA        0   0.118783        1.0  1.0  0.0  0.0\n",
       "1      CA        1   0.111902        1.0  1.0  0.0  0.0\n",
       "2      UK        0   0.120022        1.0  0.0  1.0  0.0\n",
       "3      UK        1   0.121171        1.0  0.0  1.0  0.0\n",
       "4      US        0   0.120630        1.0  0.0  0.0  1.0\n",
       "5      US        1   0.118466        1.0  0.0  0.0  1.0"
      ]
     },
     "execution_count": 49,
     "metadata": {},
     "output_type": "execute_result"
    }
   ],
   "source": [
    "#mean conversion rate by country and landing_page - \n",
    "#checking for possible interactions (whether the influence of landing_page\n",
    "#is different for the countries)\n",
    "df_new.groupby(['country','ab_page'], as_index=False).mean()"
   ]
  },
  {
   "cell_type": "markdown",
   "metadata": {
    "id": "-twa6DAEYaUI"
   },
   "source": [
    "By looking at an interaction, I will explore whether the influence of the landing_page might work in the US but not in the other countries, or Canada but not in other countries. Or the other way around. \n"
   ]
  },
  {
   "cell_type": "code",
   "execution_count": 50,
   "metadata": {
    "id": "F8XXMQc5YaUI",
    "outputId": "e59c9079-5178-43e1-8468-6c09cfc68e87"
   },
   "outputs": [
    {
     "data": {
      "text/html": [
       "<div>\n",
       "<style scoped>\n",
       "    .dataframe tbody tr th:only-of-type {\n",
       "        vertical-align: middle;\n",
       "    }\n",
       "\n",
       "    .dataframe tbody tr th {\n",
       "        vertical-align: top;\n",
       "    }\n",
       "\n",
       "    .dataframe thead th {\n",
       "        text-align: right;\n",
       "    }\n",
       "</style>\n",
       "<table border=\"1\" class=\"dataframe\">\n",
       "  <thead>\n",
       "    <tr style=\"text-align: right;\">\n",
       "      <th></th>\n",
       "      <th>country</th>\n",
       "      <th>timestamp</th>\n",
       "      <th>group</th>\n",
       "      <th>landing_page</th>\n",
       "      <th>converted</th>\n",
       "      <th>ab_page</th>\n",
       "      <th>intercept</th>\n",
       "      <th>CA</th>\n",
       "      <th>UK</th>\n",
       "      <th>US</th>\n",
       "      <th>interaction_us_ab_page</th>\n",
       "      <th>interaction_ca_ab_page</th>\n",
       "    </tr>\n",
       "    <tr>\n",
       "      <th>user_id</th>\n",
       "      <th></th>\n",
       "      <th></th>\n",
       "      <th></th>\n",
       "      <th></th>\n",
       "      <th></th>\n",
       "      <th></th>\n",
       "      <th></th>\n",
       "      <th></th>\n",
       "      <th></th>\n",
       "      <th></th>\n",
       "      <th></th>\n",
       "      <th></th>\n",
       "    </tr>\n",
       "  </thead>\n",
       "  <tbody>\n",
       "    <tr>\n",
       "      <th>834778</th>\n",
       "      <td>UK</td>\n",
       "      <td>2017-01-14 23:08:43.304998</td>\n",
       "      <td>control</td>\n",
       "      <td>old_page</td>\n",
       "      <td>0</td>\n",
       "      <td>0</td>\n",
       "      <td>1</td>\n",
       "      <td>0</td>\n",
       "      <td>1</td>\n",
       "      <td>0</td>\n",
       "      <td>0</td>\n",
       "      <td>0</td>\n",
       "    </tr>\n",
       "    <tr>\n",
       "      <th>928468</th>\n",
       "      <td>US</td>\n",
       "      <td>2017-01-23 14:44:16.387854</td>\n",
       "      <td>treatment</td>\n",
       "      <td>new_page</td>\n",
       "      <td>0</td>\n",
       "      <td>1</td>\n",
       "      <td>1</td>\n",
       "      <td>0</td>\n",
       "      <td>0</td>\n",
       "      <td>1</td>\n",
       "      <td>1</td>\n",
       "      <td>0</td>\n",
       "    </tr>\n",
       "    <tr>\n",
       "      <th>822059</th>\n",
       "      <td>UK</td>\n",
       "      <td>2017-01-16 14:04:14.719771</td>\n",
       "      <td>treatment</td>\n",
       "      <td>new_page</td>\n",
       "      <td>1</td>\n",
       "      <td>1</td>\n",
       "      <td>1</td>\n",
       "      <td>0</td>\n",
       "      <td>1</td>\n",
       "      <td>0</td>\n",
       "      <td>0</td>\n",
       "      <td>0</td>\n",
       "    </tr>\n",
       "    <tr>\n",
       "      <th>711597</th>\n",
       "      <td>UK</td>\n",
       "      <td>2017-01-22 03:14:24.763511</td>\n",
       "      <td>control</td>\n",
       "      <td>old_page</td>\n",
       "      <td>0</td>\n",
       "      <td>0</td>\n",
       "      <td>1</td>\n",
       "      <td>0</td>\n",
       "      <td>1</td>\n",
       "      <td>0</td>\n",
       "      <td>0</td>\n",
       "      <td>0</td>\n",
       "    </tr>\n",
       "    <tr>\n",
       "      <th>710616</th>\n",
       "      <td>UK</td>\n",
       "      <td>2017-01-16 13:14:44.000513</td>\n",
       "      <td>treatment</td>\n",
       "      <td>new_page</td>\n",
       "      <td>0</td>\n",
       "      <td>1</td>\n",
       "      <td>1</td>\n",
       "      <td>0</td>\n",
       "      <td>1</td>\n",
       "      <td>0</td>\n",
       "      <td>0</td>\n",
       "      <td>0</td>\n",
       "    </tr>\n",
       "  </tbody>\n",
       "</table>\n",
       "</div>"
      ],
      "text/plain": [
       "        country                   timestamp      group landing_page  \\\n",
       "user_id                                                               \n",
       "834778       UK  2017-01-14 23:08:43.304998    control     old_page   \n",
       "928468       US  2017-01-23 14:44:16.387854  treatment     new_page   \n",
       "822059       UK  2017-01-16 14:04:14.719771  treatment     new_page   \n",
       "711597       UK  2017-01-22 03:14:24.763511    control     old_page   \n",
       "710616       UK  2017-01-16 13:14:44.000513  treatment     new_page   \n",
       "\n",
       "         converted  ab_page  intercept  CA  UK  US  interaction_us_ab_page  \\\n",
       "user_id                                                                      \n",
       "834778           0        0          1   0   1   0                       0   \n",
       "928468           0        1          1   0   0   1                       1   \n",
       "822059           1        1          1   0   1   0                       0   \n",
       "711597           0        0          1   0   1   0                       0   \n",
       "710616           0        1          1   0   1   0                       0   \n",
       "\n",
       "         interaction_ca_ab_page  \n",
       "user_id                          \n",
       "834778                        0  \n",
       "928468                        0  \n",
       "822059                        0  \n",
       "711597                        0  \n",
       "710616                        0  "
      ]
     },
     "execution_count": 50,
     "metadata": {},
     "output_type": "execute_result"
    }
   ],
   "source": [
    "df_new.head()\n",
    "df_new['interaction_us_ab_page'] = df_new.US *df_new.ab_page\n",
    "df_new['interaction_ca_ab_page'] = df_new.CA *df_new.ab_page\n",
    "\n",
    "df_new.head()"
   ]
  },
  {
   "cell_type": "code",
   "execution_count": 51,
   "metadata": {
    "id": "T20tnpuoYaUI",
    "outputId": "c067823b-9350-4f66-e04f-8391d7ce9094"
   },
   "outputs": [
    {
     "name": "stdout",
     "output_type": "stream",
     "text": [
      "Optimization terminated successfully.\n",
      "         Current function value: 0.366109\n",
      "         Iterations 6\n"
     ]
    },
    {
     "data": {
      "text/html": [
       "<table class=\"simpletable\">\n",
       "<caption>Logit Regression Results</caption>\n",
       "<tr>\n",
       "  <th>Dep. Variable:</th>       <td>converted</td>    <th>  No. Observations:  </th>   <td>290584</td>   \n",
       "</tr>\n",
       "<tr>\n",
       "  <th>Model:</th>                 <td>Logit</td>      <th>  Df Residuals:      </th>   <td>290578</td>   \n",
       "</tr>\n",
       "<tr>\n",
       "  <th>Method:</th>                 <td>MLE</td>       <th>  Df Model:          </th>   <td>     5</td>   \n",
       "</tr>\n",
       "<tr>\n",
       "  <th>Date:</th>            <td>Thu, 08 Jun 2023</td> <th>  Pseudo R-squ.:     </th>  <td>3.482e-05</td> \n",
       "</tr>\n",
       "<tr>\n",
       "  <th>Time:</th>                <td>03:24:06</td>     <th>  Log-Likelihood:    </th> <td>-1.0639e+05</td>\n",
       "</tr>\n",
       "<tr>\n",
       "  <th>converged:</th>             <td>True</td>       <th>  LL-Null:           </th> <td>-1.0639e+05</td>\n",
       "</tr>\n",
       "<tr>\n",
       "  <th>Covariance Type:</th>     <td>nonrobust</td>    <th>  LLR p-value:       </th>   <td>0.1920</td>   \n",
       "</tr>\n",
       "</table>\n",
       "<table class=\"simpletable\">\n",
       "<tr>\n",
       "             <td></td>               <th>coef</th>     <th>std err</th>      <th>z</th>      <th>P>|z|</th>  <th>[0.025</th>    <th>0.975]</th>  \n",
       "</tr>\n",
       "<tr>\n",
       "  <th>intercept</th>              <td>   -1.9922</td> <td>    0.016</td> <td> -123.457</td> <td> 0.000</td> <td>   -2.024</td> <td>   -1.961</td>\n",
       "</tr>\n",
       "<tr>\n",
       "  <th>ab_page</th>                <td>    0.0108</td> <td>    0.023</td> <td>    0.475</td> <td> 0.635</td> <td>   -0.034</td> <td>    0.056</td>\n",
       "</tr>\n",
       "<tr>\n",
       "  <th>US</th>                     <td>    0.0057</td> <td>    0.019</td> <td>    0.306</td> <td> 0.760</td> <td>   -0.031</td> <td>    0.043</td>\n",
       "</tr>\n",
       "<tr>\n",
       "  <th>interaction_us_ab_page</th> <td>   -0.0314</td> <td>    0.027</td> <td>   -1.181</td> <td> 0.238</td> <td>   -0.084</td> <td>    0.021</td>\n",
       "</tr>\n",
       "<tr>\n",
       "  <th>CA</th>                     <td>   -0.0118</td> <td>    0.040</td> <td>   -0.296</td> <td> 0.767</td> <td>   -0.090</td> <td>    0.066</td>\n",
       "</tr>\n",
       "<tr>\n",
       "  <th>interaction_ca_ab_page</th> <td>   -0.0783</td> <td>    0.057</td> <td>   -1.378</td> <td> 0.168</td> <td>   -0.190</td> <td>    0.033</td>\n",
       "</tr>\n",
       "</table>"
      ],
      "text/plain": [
       "<class 'statsmodels.iolib.summary.Summary'>\n",
       "\"\"\"\n",
       "                           Logit Regression Results                           \n",
       "==============================================================================\n",
       "Dep. Variable:              converted   No. Observations:               290584\n",
       "Model:                          Logit   Df Residuals:                   290578\n",
       "Method:                           MLE   Df Model:                            5\n",
       "Date:                Thu, 08 Jun 2023   Pseudo R-squ.:               3.482e-05\n",
       "Time:                        03:24:06   Log-Likelihood:            -1.0639e+05\n",
       "converged:                       True   LL-Null:                   -1.0639e+05\n",
       "Covariance Type:            nonrobust   LLR p-value:                    0.1920\n",
       "==========================================================================================\n",
       "                             coef    std err          z      P>|z|      [0.025      0.975]\n",
       "------------------------------------------------------------------------------------------\n",
       "intercept                 -1.9922      0.016   -123.457      0.000      -2.024      -1.961\n",
       "ab_page                    0.0108      0.023      0.475      0.635      -0.034       0.056\n",
       "US                         0.0057      0.019      0.306      0.760      -0.031       0.043\n",
       "interaction_us_ab_page    -0.0314      0.027     -1.181      0.238      -0.084       0.021\n",
       "CA                        -0.0118      0.040     -0.296      0.767      -0.090       0.066\n",
       "interaction_ca_ab_page    -0.0783      0.057     -1.378      0.168      -0.190       0.033\n",
       "==========================================================================================\n",
       "\"\"\""
      ]
     },
     "execution_count": 51,
     "metadata": {},
     "output_type": "execute_result"
    }
   ],
   "source": [
    "df_new['intercept'] = 1\n",
    "\n",
    "lm = sm.Logit(df_new['converted'],df_new[['intercept','ab_page','US','interaction_us_ab_page','CA','interaction_ca_ab_page']])\n",
    "results = lm.fit()\n",
    "results.summary()"
   ]
  },
  {
   "cell_type": "markdown",
   "metadata": {
    "id": "uVtjJ4zfYaUI"
   },
   "source": [
    "### Summary and conclusion on regression\n",
    "\n",
    "The p_value for both interaction terms is higher than 0.05.\n",
    "\n",
    "Thus, the influence of landing_page in the US is not different to the influence of landing_page in the other countries. \n",
    "\n",
    "And the influence of landing_page in Canada is not different to the influence of landing_page in the other countries. "
   ]
  },
  {
   "cell_type": "markdown",
   "metadata": {
    "id": "nf7MutDoYaUJ"
   },
   "source": [
    "<a id='conclusions'></a>\n",
    "## Conclusions\n",
    "\n",
    "In conclusion, there is not enough evidence that the new_page increases the conversion rate as compared to the old_page. This is based on the probability figures, A/B testand regression. There is no strong evidence that the countries (US, CA and UK) influence the conversion rate. \n",
    "\n",
    "Since the sample size is large continuing the testing of the new_page is likely not necessary. It is best to focus on the development of another new landing page. \n",
    "\n"
   ]
  },
  {
   "cell_type": "code",
   "execution_count": null,
   "metadata": {
    "id": "WKPHVThQYaUJ"
   },
   "outputs": [],
   "source": []
  },
  {
   "cell_type": "code",
   "execution_count": null,
   "metadata": {},
   "outputs": [],
   "source": []
  }
 ],
 "metadata": {
  "colab": {
   "provenance": []
  },
  "kernelspec": {
   "display_name": "Python 3 (ipykernel)",
   "language": "python",
   "name": "python3"
  },
  "language_info": {
   "codemirror_mode": {
    "name": "ipython",
    "version": 3
   },
   "file_extension": ".py",
   "mimetype": "text/x-python",
   "name": "python",
   "nbconvert_exporter": "python",
   "pygments_lexer": "ipython3",
   "version": "3.10.9"
  }
 },
 "nbformat": 4,
 "nbformat_minor": 1
}
